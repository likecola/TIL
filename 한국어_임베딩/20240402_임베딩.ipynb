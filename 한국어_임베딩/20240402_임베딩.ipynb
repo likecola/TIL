{
 "cells": [
  {
   "cell_type": "markdown",
   "metadata": {},
   "source": [
    "# 임베딩(embedding)"
   ]
  },
  {
   "cell_type": "markdown",
   "metadata": {},
   "source": [
    "임베딩(embedding)은 자연어를 숫자의 나열인 벡터(vector)로 바꾼 결과 혹은 그 일련의 과정 전체를 뜻한다.\n",
    "단어나 각각의 문장을 벡터로 변환해 벡터 공간(vector space)에 끼워넣는다(embed)는 취지에서 임베딩이라는 이름이 붙었다.\n",
    "\n",
    "컴퓨터는 임베딩을 계산, 처리해 자연어 형식의 답변을 출력함으로써 인간과 상호작용할 수 있게된다."
   ]
  },
  {
   "cell_type": "markdown",
   "metadata": {},
   "source": [
    "임베딩에는 말뭉치(corpus)의 의미, 문법 정보가 응축돼 있다.\n",
    "임베딩은 벡터이기 때문에 사칙연산이 가능하며, 단어/문서 관련도(relevance)역시 계산할 수 있다."
   ]
  },
  {
   "cell_type": "markdown",
   "metadata": {},
   "source": [
    "전이 학습(transfer learning)은 특정 문제를 풀기 위해 학습한 모델을 다른 문제를 푸는데 재사용 하는 기법을 의미한다.\n",
    "전이 학습 혹은 프리트레인-파인 튜닝 메커니즘은 사람의 학습법과 비슷한 점이 있다.\n",
    "바로 제로 베이스에서 배우지 않는다는 점이다.\n",
    "\n",
    "자연어 처리도 마찬가지다.\n",
    "우선 대규모 말뭉치를 학습시켜 임베딩을 미리 만들어 놓는다(프리트레인)\n",
    "이 임베딩에는 의미, 문법 정보가 녹아 있다.\n",
    "\n",
    "이후 임베딩을 포함한 모델 전체를 문서 분류 과제에 맞게 업데이트 한다(파인튜닝)\n",
    "이로써 전이 학습 모델은 제로부터 학습한 모델보다 과제를 잘 수행할 수 있다."
   ]
  },
  {
   "cell_type": "markdown",
   "metadata": {},
   "source": [
    "임베딩 품질이 좋으면 성능이 높고 수렴이 빠르다."
   ]
  },
  {
   "attachments": {
    "image.png": {
     "image/png": "[encoded data removed]"
    }
   },
   "cell_type": "markdown",
   "metadata": {},
   "source": [
    "## 참고사항\n",
    "\n",
    "### 벡터공간\n",
    "덧셈과 스칼라곱의 연산을 정의할 수 있으며 그에 대한 특정조건을 만족하는 공집합이 아닌 집합\n",
    "벡터 공간(Vector Space)은 선형 대수학에서 중요한 개념입니다. 간단히 말해, 벡터 공간은 일종의 수학적 구조로서, 벡터들의 집합이 특정 조건을 만족할 때 이루어지는 공간입니다. 이 조건은 여러 가지가 있을 수 있지만, 대부분의 경우 다음과 같은 세 가지 조건을 만족해야 합니다:\n",
    "\n",
    "덧셈 연산의 폐쇄성: 벡터 공간에 속하는 임의의 두 벡터를 더한 결과도 마찬가지로 그 공간에 속해야 합니다.\n",
    "스칼라 곱셈의 폐쇄성: 어떤 스칼라(실수 또는 복소수)와 벡터의 곱이 항상 그 벡터 공간에 속해야 합니다.\n",
    "벡터 덧셈 및 스칼라 곱셈에 대한 결합, 분배, 항등원 등의 성질을 만족해야 합니다.\n",
    "\n",
    "### 벡터와 행렬의 미분\n",
    "\n",
    "벡터와 행렬의 미분은 미분 연산을 벡터나 행렬에 적용하는 것을 의미합니다. 이는 미분을 통해 함수의 변화율을 계산하는 과정을 벡터나 행렬에 적용하는 것입니다.\n",
    "\n",
    "벡터의 미분: 벡터를 구성하는 각 성분(원소)에 대해 미분을 수행합니다. 이렇게 하면 각 성분의 변화율이 구해집니다. 벡터 함수의 미분은 그레디언트(gradient) 또는 자코비안 행렬(Jacobian matrix)이라고도 합니다.\n",
    "\n",
    "행렬의 미분: 행렬을 구성하는 각 요소에 대해 미분을 수행합니다. 이는 각 요소가 함수로써의 변화율을 의미합니다. 행렬 함수의 미분은 행렬 미분 또는 미분 행렬이라고도 합니다.\n",
    "\n",
    "### 벡터의 내적과 코사인 유사도\n",
    "\n",
    "벡터의 내적은 두 벡터 간의 곱셈 연산 중 하나입니다. 특히, 두 벡터의 각 성분을 곱한 후 그 결과를 모두 더한 것을 말합니다. \n",
    "\n",
    "코사인 유사도(Cosine Similarity)는 두 벡터 간의 유사성을 측정하는 방법 중 하나입니다. 두 벡터의 방향이 얼마나 비슷한지를 측정하여 유사성을 판단합니다. 코사인 유사도는 두 벡터의 내적을 이용하여 계산됩니다. \n",
    "\n",
    "코사인 유사도는 -1부터 1까지의 값을 가질 수 있으며, 값이 1에 가까울수록 두 벡터는 방향이 유사하다고 판단됩니다.\n",
    "\n",
    "\n",
    "### 고유 분해(Eigen decomposition) \n",
    "정방행렬(square matrix)을 고유벡터(eigenvector)와 고유값(eigenvalue)으로 분해하는 과정을 말합니다.\n",
    "\n",
    "고유 분해는 선형 변환을 이해하고, 데이터를 압축하고, 행렬을 대각화하는 등 다양한 수학적 작업에 사용됩니다. 특히, 고유 분해는 주성분 분석(PCA)이나 모드 분해 등과 같은 다양한 응용 분야에서 중요하게 사용됩니다.\n",
    "\n",
    "\n",
    "### 우도함수와 최대우도추정\n",
    "우도 함수(Likelihood function)는 주어진 관측값(데이터)에 대해 모수(parameter)를 추정하기 위한 통계적 모델에서 사용되는 함수입니다. 간단히 말해, 우도 함수는 모수가 특정한 값일 때 주어진 데이터가 발생할 확률을 나타냅니다.\n",
    "\n",
    "우도 함수는 주로 확률밀도함수(probability density function) 또는 확률질량함수(probability mass function)의 모수로써 사용됩니다. 예를 들어, 정규 분포의 경우, 주어진 데이터의 확률밀도함수가 정규분포로 주어지면, 이를 모수(평균과 분산)로 나타내는 함수가 우도 함수가 됩니다.\n",
    "\n",
    "최대우도추정(Maximum Likelihood Estimation, MLE)은 주어진 데이터에 대해 우도 함수를 최대화하는 모수를 찾는 과정입니다. 즉, 주어진 데이터가 가장 \"잘 설명되는\" 모수를 찾는 것이라고 할 수 있습니다. MLE는 통계학에서 매우 일반적으로 사용되며, 많은 추정 방법들의 기초가 됩니다.\n",
    "\n",
    "MLE는 최적화 문제로 정의됩니다. 주어진 데이터에 대한 우도 함수를 최대화하는 모수 값을 찾기 위해 수치적 최적화 알고리즘이 사용됩니다. 이를 통해 데이터를 가장 잘 설명하는 모수를 추정할 수 있습니다.\n",
    "\n",
    "\n",
    "### 엔트로피, 크로스 엔트로피 \n",
    "엔트로피(Entropy)는 정보 이론(Information Theory)에서 사용되는 개념으로, 어떤 확률 분포가 가지는 불확실성의 양을 측정합니다. 엔트로피가 높을수록 확률 분포의 불확실성이 크고, 엔트로피가 낮을수록 불확실성이 적습니다. \n",
    "\n",
    "크로스 엔트로피(Cross Entropy)는 두 확률 분포 간의 유사성을 측정하는 데 사용되는 지표입니다. 주로 예측 모델의 출력과 실제 레이블 간의 차이를 측정하는 데 사용됩니다.\n",
    "\n",
    "\n",
    "### 그래디언트 디센트\n",
    "그래디언트 디센트(Gradient Descent)는 함수의 최솟값을 찾기 위한 최적화 알고리즘 중 하나입니다. 이 알고리즘은 함수의 기울기(gradient)를 이용하여 함수의 최솟값을 찾아가는 과정을 나타냅니다.\n",
    "\n",
    "주어진 함수의 최솟값을 찾기 위해 그래디언트 디센트 알고리즘은 다음과 같은 단계를 반복합니다:\n",
    "\n",
    "임의의 시작점을 선택합니다.\n",
    "선택한 점에서 함수의 기울기(그래디언트)를 계산합니다.\n",
    "기울기의 반대 방향으로 조금씩 이동합니다. 이 때 이동하는 거리는 학습률(learning rate)이라는 하이퍼파라미터에 의해 결정됩니다.\n",
    "새로운 위치에서 다시 기울기를 계산하고 이동을 반복합니다.\n",
    "함수의 값이 충분히 수렴할 때까지 이러한 과정을 반복합니다.\n",
    "이렇게 반복하면 함수의 최솟값에 근접하게 됩니다. 그래디언트 디센트는 여러 최적화 문제에 적용되며, 특히 머신러닝에서는 손실 함수의 최적화에 사용됩니다. 예를 들어, 선형 회귀나 로지스틱 회귀에서는 그래디언트 디센트를 이용하여 모델의 파라미터를 최적화합니다.\n",
    "\n",
    "\n",
    "### 사전확률과 사후확률\n",
    "사전확률(Prior Probability)은 어떤 사건이 발생하기 전에 가지고 있는 확률입니다. 즉, 사건이 발생하기 전에 이미 알고 있는 정보나 선행 지식을 바탕으로 계산된 확률입니다. 사전확률은 해당 사건에 대한 믿음의 정도를 나타내며, 사건이 발생하기 전에는 어떤 확률로 예상되었는지를 보여줍니다.\n",
    "\n",
    "사후확률(Posterior Probability)은 어떤 사건이 발생한 후에, 추가적인 정보나 관찰을 바탕으로 조정된 확률입니다. 즉, 사건이 발생한 후에 얻은 새로운 정보를 고려하여 수정된 확률입니다. 사후확률은 사건이 발생한 후에 우리가 가지는 확률적인 믿음의 정도를 나타내며, 사건이 발생한 후에는 어떤 확률로 예측되는지를 보여줍니다.\n",
    "\n",
    "사전확률과 사후확률은 베이지안 통계(Bayesian Statistics)에서 중요한 개념으로 사용됩니다. 베이지안 통계에서는 사전확률을 바탕으로 사후확률을 계산하고, 이를 통해 관심 있는 사건에 대한 확률적인 추론을 수행합니다.\n",
    "\n",
    "\n",
    "### 선형회귀\n",
    "선형회귀(Linear Regression)는 머신러닝과 통계학에서 가장 기본적이고 널리 사용되는 회귀 분석 기법 중 하나입니다. 선형회귀는 입력 변수(독립 변수)와 연속형 출력 변수(종속 변수) 간의 선형 관계를 모델링하는 방법입니다.\n",
    "\n",
    "주어진 데이터에 대해 선형회귀 모델은 입력 변수와 가중치(weight)의 선형 결합으로 출력 변수를 예측합니다.\n",
    "\n",
    "선형회귀 모델은 주어진 데이터에 가장 적합한 가중치를 찾는 것이 목표입니다. 이를 위해 일반적으로 최소 제곱법(Least Squares Method)이나 경사 하강법(Gradient Descent)과 같은 최적화 알고리즘이 사용됩니다. 이러한 방법을 사용하여 모델의 예측과 실제 데이터 간의 오차를 최소화하도록 가중치를 조정합니다.\n",
    "\n",
    "선형회귀는 예측 모델링, 변수 간의 상관 관계 분석, 효과 크기 계산 등 다양한 분야에서 널리 사용됩니다. 데이터의 특성과 문제에 따라 다양한 변형이 존재하며, 비선형성을 포함한 복잡한 모델도 구축할 수 있습니다.\n",
    "\n",
    "\n",
    "### 이항 로지스틱 회귀와 시그모이드 함수\n",
    "이항 로지스틱 회귀는 두 가지 선택 사이에서 예측을 할 때 사용하는 방법입니다. 예를 들어, \"성공\" 또는 \"실패\"와 같이 두 가지 선택이 있는 경우에 사용할 수 있습니다.\n",
    "\n",
    "시그모이드 함수는 입력 값을 0과 1 사이의 값으로 바꿔주는 함수로, 이를 통해 결과를 확률로 해석할 수 있어요. 입력 값이 클수록 결과가 1에 가까워지고, 작을수록 결과가 0에 가까워집니다. 이것은 우리가 어떤 선택이 일어날 확률을 예측할 때 도움이 되는데, 0.5를 기준으로 0.5보다 크면 하나의 선택을, 0.5보다 작으면 다른 선택을 할 수 있습니다.\n",
    "\n",
    "그러니까, 이항 로지스틱 회귀는 두 가지 선택 사이에서 예측을 하고, 시그모이드 함수는 그 예측을 0과 1 사이의 확률로 바꿔주는 역할입니다.\n",
    "\n",
    "### 다항 로지스틱 회귀와 소프트맥스 함수\n",
    "다항 로지스틱 회귀는 여러 개의 선택 사이에서 예측을 하는 방법입니다. 예를 들어, \"고양이\", \"개\", \"새\"와 같이 세 개 이상의 선택이 있는 경우에 사용할 수 있습니다.\n",
    "\n",
    "소프트맥스 함수는 다중 선택 문제에서 각 선택지에 대한 확률을 계산해주는 함수입니다. 소프트맥스 함수를 사용하면 각 선택지에 대한 점수를 0과 1 사이의 확률로 바꿔줄 수 있습니다. 그리고 모든 선택지의 확률의 합은 항상 1이 되도록 만들어줍니다.\n",
    "\n",
    "그러니까, 다항 로지스틱 회귀는 여러 개의 선택 사이에서 예측을 하고, 소프트맥스 함수를 사용해서 각 선택 사이의 확률을 계산하는 방법입니다. 이를 통해 여러 개의 선택지 중 어떤 것이 가장 가능성이 높은지를 알 수 있습니다.\n",
    "\n",
    "\n",
    "### 피드포워드 뉴럴 네트워크\n",
    "피드포워드 뉴럴 네트워크(Feedforward Neural Network)는 인공 신경망의 가장 기본적인 형태 중 하나입니다. 이는 입력층에서 출력층으로 신호가 한 방향으로만 흐르는 구조를 가지고 있습니다. 즉, 정보는 입력층에서 시작하여 은닉층(들)을 거쳐 출력층으로 전달됩니다.\n",
    "\n",
    "피드포워드 뉴럴 네트워크는 심층 신경망(Deep Neural Network, DNN)의 가장 기본적인 형태이며, 여러 개의 은닉층을 포함할 수 있습니다. 각 층은 여러 개의 뉴런(노드)으로 구성되어 있으며, 이들은 입력 신호를 받아 가중치를 곱하고 활성화 함수를 통과시키는 등의 계산을 수행합니다.\n",
    "\n",
    "피드포워드 뉴럴 네트워크는 주로 분류(classification)나 회귀(regression)와 같은 문제에 사용됩니다. 입력 데이터가 주어졌을 때, 네트워크는 학습된 가중치와 편향을 사용하여 출력을 생성합니다. 학습은 주어진 데이터와 출력 사이의 오차를 최소화하기 위해 역전파(backpropagation) 알고리즘과 경사 하강법(gradient descent)과 같은 최적화 기법을 사용하여 수행됩니다.\n",
    "\n",
    "\n",
    "![image.png](attachment:image.png)"
   ]
  },
  {
   "cell_type": "markdown",
   "metadata": {},
   "source": [
    "단어 유추 평가(word analogy test) : 단어 임베딩을 평가하는 방법\n",
    "잠재 의미 분석(Latent Semantic Analysis) : 사용 빈도 등 말뭉치의 통계량 정보가 들어 있는 커다란 행렬에 특이값 분해(Singular Value Decomposition) 등 수학적 지법을 적용해 행렬에 속한 벡터들의 차원을 축소하는 방법\n",
    "\n",
    "\n",
    "**잠재 의미 분석 수행 대상 행렬**\n",
    "- TF-IDF(Term Frequency-Inverse Document Frequency)\n",
    "- 단어-문맥 행렬(Word-Context Matrix)\n",
    "- 점별 상호 정보량 행렬(Pointwise Mutual Information Matrix)\n",
    "\n",
    "\n",
    "다운스트림 태스크(downstream task)\n",
    "- 품사판별, 개체명 인식, 의미역 분석 등 풀고싶은 문제\n",
    "\n",
    "\n",
    "업스트림 태스크(upstream task)\n",
    "- 다운스트림 태스크에 앞서 해결해야하는 과제\n",
    "- 단어/문장 임베딩을 프리트레인하는 작업\n"
   ]
  },
  {
   "cell_type": "markdown",
   "metadata": {},
   "source": [
    "## 임베딩의 종류와 성능\n",
    "\n",
    "**행렬 분해 기반 방법**\n",
    "- 말뭉치 정보가 들어 있는 원래 행렬을 두 개 이상의 작은 행렬로 쪼개는 방식\n",
    "- 분해한 이후엔 둘 중 하나의 행렬만 쓰거나 둘을 더하거나 붙여 임베딩으로 사용한다. (GloVe, Swivel)\n",
    "\n",
    "\n",
    "**예측 기반 방법**\n",
    "- 어떤 단어 주변에 특정 단어가 나타날지 예측하거나, 이전 단어들이 주어졌을 때 다음 단어가 뭔지 예측하거나. 문장 내 일부 단어를 지우고 해당 단어가 무엇일지 맞추는 과정에서 학습하는 방법\n",
    "- 뉴럴 네트워크 방법들이 속함(Word2Vec, FastText, BERT, ELMo, GPT)\n",
    "\n",
    "**토픽 기반 방법**\n",
    "- 주어진 문서에 잠재된 주제를 추론하는 방식이다.\n",
    "- 잠재 디리클래 할당(Latent Dirichlet Allocation) > LDA 같은 모델은 학습이 완료되면 각 문서가 어떤 주제 분포를 갖는지 확률 벡터로 반환한다.\n",
    "\n",
    "**임베딩 성능 평가**\n",
    "- 문장 임베딩 기법이 단어 임베딩 기법보다 앞선다.\n",
    "- 임베딩 품질이 각종 다운스트림 태스크에 영향을 주는 것이다.\n"
   ]
  },
  {
   "cell_type": "markdown",
   "metadata": {},
   "source": []
  }
 ],
 "metadata": {
  "language_info": {
   "name": "python"
  }
 },
 "nbformat": 4,
 "nbformat_minor": 2
}
