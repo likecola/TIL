{
  "cells": [
    {
      "cell_type": "markdown",
      "metadata": {
        "id": "woH85XDaYDDr"
      },
      "source": [
        "\n",
        "# PyTorch에서 state_dict란 무엇인가요?\n",
        "PyTorch에서 ``torch.nn.Module`` 모델의 학습 가능한\n",
        "매개변수(예. 가중치와 편향)들은 모델의 매개변수에 포함되어 있습니다.\n",
        "(model.parameters()로 접근합니다)\n",
        "``state_dict`` 는 간단히 말해 각 계층을 매개변수 텐서로 매핑되는\n",
        "Python 사전(dict) 객체입니다.\n",
        "\n",
        "## 개요\n",
        "``state_dict`` 는 PyTorch에서 모델을 저장하거나 불러오는 데 관심이\n",
        "있다면 필수적인 항목입니다.\n",
        "``state_dict`` 객체는 Python 사전이기 때문에 쉽게 저장, 업데이트,\n",
        "변경 및 복원할 수 있으며, 이는 PyTorch 모델과 옵티마이저에 엄청난\n",
        "모듈성(modularity)을 제공합니다.\n",
        "이 때, 학습 가능한 매개변수를 갖는 계층(합성곱 계층, 선형 계층 등)\n",
        "및 등록된 버퍼들(batchnorm의 running_mean)만 모델의 ``state_dict``\n",
        " 항목을 가진다는 점에 유의하시기 바랍니다. 옵티마이저 객체\n",
        "( ``torch.optim`` ) 또한 옵티마이저의 상태 뿐만 아니라 사용된\n",
        "하이퍼 매개변수 (Hyperparameter) 정보가 포함된 ``state_dict`` 을\n",
        "갖습니다.\n",
        "레시피에서 ``state_dict`` 이 간단한 모델에서 어떻게 사용되는지\n",
        "살펴보겠습니다.\n",
        "\n",
        "## 설정\n",
        "시작하기 전에 ``torch`` 가 없다면 설치해야 합니다.\n",
        "\n",
        "::\n",
        "\n",
        "   pip install torch\n"
      ]
    },
    {
      "cell_type": "markdown",
      "metadata": {
        "id": "IO4lXg3_YJeJ"
      },
      "source": [
        "## 단계(Steps)\n",
        "\n",
        "1. 데이터를 불러올 때 필요한 모든 라이브러리 불러오기\n",
        "2. 신경망을 구성하고 초기화하기\n",
        "3. 옵티마이저 초기화하기\n",
        "4. 모델과 옵티마이저의 ``state_dict`` 접근하기\n",
        "\n",
        "### 1. 데이터를 불러올 때 필요한 모든 라이브러리 불러오기\n",
        "\n",
        "이 레시피에서는 ``torch`` 와 하위 패키지인 ``torch.nn`` 과 ``torch.optim`` 을\n",
        "사용하겠습니다.\n",
        "\n",
        "\n"
      ]
    },
    {
      "cell_type": "code",
      "execution_count": 1,
      "metadata": {
        "id": "-FqOQzP8X-zJ"
      },
      "outputs": [],
      "source": [
        "import torch\n",
        "import torch.nn as nn\n",
        "import torch.optim as optim"
      ]
    },
    {
      "cell_type": "markdown",
      "metadata": {
        "id": "0nSf4PC-YORh"
      },
      "source": [
        "### 2. 신경망을 구성하고 초기화하기\n",
        "\n",
        "예시를 보이기 위해, 이미지를 학습하는 신경망을 만들어보겠습니다.\n",
        "더 자세한 내용은 신경망 구성하기 레시피를 참고해주세요.\n",
        "\n",
        "\n"
      ]
    },
    {
      "cell_type": "code",
      "execution_count": 4,
      "metadata": {
        "colab": {
          "base_uri": "https://localhost:8080/"
        },
        "id": "FzSXbTN2YNcK",
        "outputId": "e6328273-70b5-4f60-a753-420c001bbec2"
      },
      "outputs": [
        {
          "name": "stdout",
          "output_type": "stream",
          "text": [
            "Net(\n",
            "  (conv1): Conv2d(3, 6, kernel_size=(5, 5), stride=(1, 1))\n",
            "  (pool): MaxPool2d(kernel_size=2, stride=2, padding=0, dilation=1, ceil_mode=False)\n",
            "  (conv2): Conv2d(6, 16, kernel_size=(5, 5), stride=(1, 1))\n",
            "  (fc1): Linear(in_features=400, out_features=120, bias=True)\n",
            "  (fc2): Linear(in_features=120, out_features=84, bias=True)\n",
            "  (fc3): Linear(in_features=84, out_features=10, bias=True)\n",
            ")\n"
          ]
        }
      ],
      "source": [
        "class Net(nn.Module):\n",
        "    def __init__(self):\n",
        "        super(Net, self).__init__()\n",
        "        self.conv1 = nn.Conv2d(3, 6, 5)\n",
        "        self.pool = nn.MaxPool2d(2, 2)\n",
        "        self.conv2 = nn.Conv2d(6, 16, 5)\n",
        "        self.fc1 = nn.Linear(16 * 5 * 5, 120)\n",
        "        self.fc2 = nn.Linear(120, 84)\n",
        "        self.fc3 = nn.Linear(84, 10)\n",
        "\n",
        "    def forward(self, x):\n",
        "        x = self.pool(F.relu(self.conv1(x)))\n",
        "        x = self.pool(F.relu(self.conv2(x)))\n",
        "        x = x.view(-1, 16 * 5 * 5)\n",
        "        x = F.relu(self.fc1(x))\n",
        "        x = F.relu(self.fc2(x))\n",
        "        x = self.fc3(x)\n",
        "        return x\n",
        "\n",
        "net = Net()\n",
        "print(net)"
      ]
    },
    {
      "cell_type": "markdown",
      "metadata": {
        "id": "aqwEejdSZJb4"
      },
      "source": [
        "### 3. 옵티마이저 초기화하기\n",
        "\n",
        "모멘텀(momentum)을 갖는 SGD를 사용하겠습니다.\n",
        "\n",
        "\n"
      ]
    },
    {
      "cell_type": "code",
      "execution_count": 5,
      "metadata": {
        "id": "9uDsIo7iZCzH"
      },
      "outputs": [],
      "source": [
        "optimizer = optim.SGD(net.parameters(), lr=0.001, momentum=0.9)"
      ]
    },
    {
      "cell_type": "markdown",
      "metadata": {
        "id": "-FPn1sj1ZRFX"
      },
      "source": [
        "### 4. 모델과 옵티마이저의 ``state_dict`` 접근하기\n",
        "\n",
        "이제 모델과 옵티마이저를 구성했으므로 각각의 ``state_dict`` 속성에\n",
        "저장되어 있는 항목을 확인할 수 있습니다.\n",
        "\n",
        "\n"
      ]
    },
    {
      "cell_type": "code",
      "execution_count": 6,
      "metadata": {
        "colab": {
          "base_uri": "https://localhost:8080/"
        },
        "id": "k8_mGLtvZPrn",
        "outputId": "4f14e1dd-4c1e-4c65-9d6a-e7c2528afb54"
      },
      "outputs": [
        {
          "name": "stdout",
          "output_type": "stream",
          "text": [
            "Model's state_dict:\n",
            "conv1.weight \t torch.Size([6, 3, 5, 5])\n",
            "conv1.bias \t torch.Size([6])\n",
            "conv2.weight \t torch.Size([16, 6, 5, 5])\n",
            "conv2.bias \t torch.Size([16])\n",
            "fc1.weight \t torch.Size([120, 400])\n",
            "fc1.bias \t torch.Size([120])\n",
            "fc2.weight \t torch.Size([84, 120])\n",
            "fc2.bias \t torch.Size([84])\n",
            "fc3.weight \t torch.Size([10, 84])\n",
            "fc3.bias \t torch.Size([10])\n",
            "\n",
            "Optimizer's state_dict:\n",
            "state \t {}\n",
            "param_groups \t [{'lr': 0.001, 'momentum': 0.9, 'dampening': 0, 'weight_decay': 0, 'nesterov': False, 'maximize': False, 'foreach': None, 'differentiable': False, 'params': [0, 1, 2, 3, 4, 5, 6, 7, 8, 9]}]\n"
          ]
        }
      ],
      "source": [
        "# 모델의 state_dict 출력\n",
        "print(\"Model's state_dict:\")\n",
        "for param_tensor in net.state_dict():\n",
        "    print(param_tensor, \"\\t\", net.state_dict()[param_tensor].size())\n",
        "\n",
        "print()\n",
        "\n",
        "# 옵티마이저의 state_dict 출력\n",
        "print(\"Optimizer's state_dict:\")\n",
        "for var_name in optimizer.state_dict():\n",
        "    print(var_name, \"\\t\", optimizer.state_dict()[var_name])"
      ]
    },
    {
      "cell_type": "markdown",
      "metadata": {
        "id": "NerSB8DYZx1e"
      },
      "source": [
        "이 정보는 향후 모델 및 옵티마이저를 저장하고\n",
        "불러오는 것과 관련이 있습니다.\n",
        "\n",
        "축하합니다! PyTorch에서 ``state_dict`` 을 성공적으로 사용하였습니다.\n",
        "\n",
        "## 더 알아보기\n",
        "\n",
        "다른 레시피를 둘러보고 계속 배워보세요:\n",
        "\n",
        "- :doc:`/recipes/recipes/saving_and_loading_models_for_inference`\n",
        "- :doc:`/recipes/recipes/saving_and_loading_a_general_checkpoint`\n",
        "\n"
      ]
    },
    {
      "cell_type": "code",
      "execution_count": null,
      "metadata": {
        "id": "iNkXAbwYZyBV"
      },
      "outputs": [],
      "source": []
    }
  ],
  "metadata": {
    "colab": {
      "provenance": []
    },
    "kernelspec": {
      "display_name": "Python 3",
      "name": "python3"
    },
    "language_info": {
      "name": "python"
    }
  },
  "nbformat": 4,
  "nbformat_minor": 0
}
