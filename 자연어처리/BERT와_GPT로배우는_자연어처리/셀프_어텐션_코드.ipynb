{
  "nbformat": 4,
  "nbformat_minor": 0,
  "metadata": {
    "colab": {
      "provenance": []
    },
    "kernelspec": {
      "name": "python3",
      "display_name": "Python 3"
    },
    "language_info": {
      "name": "python"
    }
  },
  "cells": [
    {
      "cell_type": "code",
      "execution_count": 1,
      "metadata": {
        "id": "-L9baZQm5Rw2"
      },
      "outputs": [],
      "source": [
        "import torch\n",
        "\n",
        "x = torch.tensor([\n",
        "    [1.0, 0.0, 1.0, 0.0],\n",
        "    [0.0, 2.0, 0.0, 2.0],\n",
        "    [1.0, 1.0, 1.0, 1.0],\n",
        "])\n",
        "\n",
        "w_query = torch.tensor([\n",
        "    [1.0, 0.0, 1.0],\n",
        "    [1.0, 0.0, 0.0],\n",
        "    [0.0, 0.0, 1.0],\n",
        "    [0.0, 1.0, 1.0]\n",
        "])\n",
        "\n",
        "w_key = torch.tensor([\n",
        "    [0.0, 0.0, 1.0],\n",
        "    [1.0, 1.0, 0.0],\n",
        "    [0.0, 1.0, 0.0],\n",
        "    [1.0, 1.0, 0.0]\n",
        "])\n",
        "w_value = torch.tensor([\n",
        "    [0.0, 2.0, 0.0],\n",
        "    [0.0, 3.0, 0.0],\n",
        "    [1.0, 0.0, 3.0],\n",
        "    [1.0, 1.0, 0.0]\n",
        "])"
      ]
    },
    {
      "cell_type": "code",
      "source": [
        "#  쿼리, 키, 밸류 만들기\n",
        "keys = torch.matmul(x, w_key)\n",
        "querys = torch.matmul(x, w_query)\n",
        "values = torch.matmul(x, w_value)"
      ],
      "metadata": {
        "id": "yoU-R3dd6Cky"
      },
      "execution_count": 3,
      "outputs": []
    },
    {
      "cell_type": "code",
      "source": [
        "# 어텐션 스코어 만들기\n",
        "attn_scores = torch.matmul(querys, keys.T)\n",
        "print(attn_scores)"
      ],
      "metadata": {
        "colab": {
          "base_uri": "https://localhost:8080/"
        },
        "id": "H_8b2wXW6RzL",
        "outputId": "4073ade8-8fd4-4ef2-ca37-243ab9a35e1f"
      },
      "execution_count": 5,
      "outputs": [
        {
          "output_type": "stream",
          "name": "stdout",
          "text": [
            "tensor([[ 2.,  4.,  4.],\n",
            "        [ 4., 16., 12.],\n",
            "        [ 4., 12., 10.]])\n"
          ]
        }
      ]
    },
    {
      "cell_type": "code",
      "source": [
        "# 소프트맥스 확률 값 만들기\n",
        "import numpy as np\n",
        "from torch.nn.functional import softmax\n",
        "key_dim_sqrt = np.sqrt(keys.shape[-1])\n",
        "attn_probs = softmax(attn_scores / key_dim_sqrt, dim=-1)\n",
        "\n",
        "print(attn_probs)"
      ],
      "metadata": {
        "colab": {
          "base_uri": "https://localhost:8080/"
        },
        "id": "S3t3KLKV6aCg",
        "outputId": "7948bf98-6da0-495a-f539-5460c085aefd"
      },
      "execution_count": 8,
      "outputs": [
        {
          "output_type": "stream",
          "name": "stdout",
          "text": [
            "tensor([[1.3613e-01, 4.3194e-01, 4.3194e-01],\n",
            "        [8.9045e-04, 9.0884e-01, 9.0267e-02],\n",
            "        [7.4449e-03, 7.5471e-01, 2.3785e-01]])\n"
          ]
        }
      ]
    },
    {
      "cell_type": "code",
      "source": [
        "# 소프트맥스 확률과 밸류를 가중합하기\n",
        "weighted_values = torch.matmul(attn_probs, values)\n",
        "print(weighted_values)"
      ],
      "metadata": {
        "colab": {
          "base_uri": "https://localhost:8080/"
        },
        "id": "fxibOCvw6tSl",
        "outputId": "4dda5852-0f60-4aa0-eafc-4e6ce275229b"
      },
      "execution_count": 9,
      "outputs": [
        {
          "output_type": "stream",
          "name": "stdout",
          "text": [
            "tensor([[1.8639, 6.3194, 1.7042],\n",
            "        [1.9991, 7.8141, 0.2735],\n",
            "        [1.9926, 7.4796, 0.7359]])\n"
          ]
        }
      ]
    },
    {
      "cell_type": "code",
      "source": [
        "# 피드 포워드 뉴럴 네트워크 계산 예시 (1)\n",
        "import torch\n",
        "x = torch.tensor([2, 1])\n",
        "w1 = torch.tensor([[3, 2, -4],[2, -3, 1]])\n",
        "b1 = 1\n",
        "w2 = torch.tensor([[-1, 1],[1, 2], [3, 1]])\n",
        "b2 = -1"
      ],
      "metadata": {
        "id": "zdUOG7FE65S3"
      },
      "execution_count": 1,
      "outputs": []
    },
    {
      "cell_type": "code",
      "source": [
        "# 피드 포워드 뉴럴 네트워크 계산 예시 (2)\n",
        "h_preact = torch.matmul(x, w1) + b1\n",
        "h = torch.nn.functional.relu(h_preact)\n",
        "y = torch.matmul(h, w2) + b2\n",
        "\n",
        "print(h_preact)\n",
        "print(h)\n",
        "print(y)"
      ],
      "metadata": {
        "colab": {
          "base_uri": "https://localhost:8080/"
        },
        "id": "xK_JQTxBISLP",
        "outputId": "a499a1e3-15e1-4641-9e01-c082a207ec48"
      },
      "execution_count": 2,
      "outputs": [
        {
          "output_type": "stream",
          "name": "stdout",
          "text": [
            "tensor([ 9,  2, -6])\n",
            "tensor([9, 2, 0])\n",
            "tensor([-8, 12])\n"
          ]
        }
      ]
    },
    {
      "cell_type": "code",
      "source": [
        "# 레이어 정규화(layer normalization) 예시\n",
        "import torch\n",
        "input = torch.tensor([[1.0, 2.0, 3.0], [1.0, 1.0, 1.0]])\n",
        "m = torch.nn.LayerNorm(input.shape[-1])\n",
        "output = m(input)\n",
        "\n",
        "print(output)"
      ],
      "metadata": {
        "colab": {
          "base_uri": "https://localhost:8080/"
        },
        "id": "ppBHRmS6IjYc",
        "outputId": "bfaabf1a-6a3a-42a5-c2d9-d3f74395f468"
      },
      "execution_count": 3,
      "outputs": [
        {
          "output_type": "stream",
          "name": "stdout",
          "text": [
            "tensor([[-1.2247,  0.0000,  1.2247],\n",
            "        [ 0.0000,  0.0000,  0.0000]], grad_fn=<NativeLayerNormBackward0>)\n"
          ]
        }
      ]
    },
    {
      "cell_type": "code",
      "source": [
        "# 드롭아웃(Dropout)\n",
        "import torch\n",
        "m = torch.nn.Dropout(p=0.2)\n",
        "input = torch.randn(1, 10)\n",
        "output = m(input)\n",
        "\n",
        "print(output)"
      ],
      "metadata": {
        "colab": {
          "base_uri": "https://localhost:8080/"
        },
        "id": "58XRc0m9Jico",
        "outputId": "187b3c74-185f-43da-b871-59b7cba5f539"
      },
      "execution_count": 4,
      "outputs": [
        {
          "output_type": "stream",
          "name": "stdout",
          "text": [
            "tensor([[ 0.0000,  0.1267,  0.1578, -0.7918,  2.6585, -0.9415, -0.5692, -2.5978,\n",
            "          1.1143,  0.3630]])\n"
          ]
        }
      ]
    },
    {
      "cell_type": "code",
      "source": [
        "# 아담 옵티마이저 (참고용 코드)\n",
        "from torch.optim import Adam\n",
        "optimizer = Adam(model.parameters(), lr=model.learning_rate)"
      ],
      "metadata": {
        "id": "pPRAd24lKAgc"
      },
      "execution_count": null,
      "outputs": []
    },
    {
      "cell_type": "code",
      "source": [],
      "metadata": {
        "id": "VEUWBu3PNDxA"
      },
      "execution_count": null,
      "outputs": []
    }
  ]
}