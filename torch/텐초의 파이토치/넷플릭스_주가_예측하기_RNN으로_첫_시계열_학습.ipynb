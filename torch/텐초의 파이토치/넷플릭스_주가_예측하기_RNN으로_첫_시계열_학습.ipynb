{
  "nbformat": 4,
  "nbformat_minor": 0,
  "metadata": {
    "colab": {
      "provenance": [],
      "gpuType": "T4"
    },
    "kernelspec": {
      "name": "python3",
      "display_name": "Python 3"
    },
    "language_info": {
      "name": "python"
    },
    "accelerator": "GPU"
  },
  "cells": [
    {
      "cell_type": "markdown",
      "source": [
        "# 데이터 확인"
      ],
      "metadata": {
        "id": "8Q1xsiNtGCwU"
      }
    },
    {
      "cell_type": "code",
      "execution_count": 5,
      "metadata": {
        "colab": {
          "base_uri": "https://localhost:8080/",
          "height": 206
        },
        "id": "e8OBi6jGFQkO",
        "outputId": "621e6c8d-e2e3-4f21-ff24-e612716a1c3d"
      },
      "outputs": [
        {
          "output_type": "execute_result",
          "data": {
            "text/plain": [
              "         Date  Open  High  Low    Volume  Close\n",
              "0  2015-12-16   120   123  118  13181000    123\n",
              "1  2015-12-17   124   126  122  17284900    123\n",
              "2  2015-12-18   121   122  118  17948100    118\n",
              "3  2015-12-21   120   120  116  11670000    117\n",
              "4  2015-12-22   117   117  115   9689000    116"
            ],
            "text/html": [
              "\n",
              "  <div id=\"df-57ccfe18-fcba-4be3-aae6-047dad34a77a\" class=\"colab-df-container\">\n",
              "    <div>\n",
              "<style scoped>\n",
              "    .dataframe tbody tr th:only-of-type {\n",
              "        vertical-align: middle;\n",
              "    }\n",
              "\n",
              "    .dataframe tbody tr th {\n",
              "        vertical-align: top;\n",
              "    }\n",
              "\n",
              "    .dataframe thead th {\n",
              "        text-align: right;\n",
              "    }\n",
              "</style>\n",
              "<table border=\"1\" class=\"dataframe\">\n",
              "  <thead>\n",
              "    <tr style=\"text-align: right;\">\n",
              "      <th></th>\n",
              "      <th>Date</th>\n",
              "      <th>Open</th>\n",
              "      <th>High</th>\n",
              "      <th>Low</th>\n",
              "      <th>Volume</th>\n",
              "      <th>Close</th>\n",
              "    </tr>\n",
              "  </thead>\n",
              "  <tbody>\n",
              "    <tr>\n",
              "      <th>0</th>\n",
              "      <td>2015-12-16</td>\n",
              "      <td>120</td>\n",
              "      <td>123</td>\n",
              "      <td>118</td>\n",
              "      <td>13181000</td>\n",
              "      <td>123</td>\n",
              "    </tr>\n",
              "    <tr>\n",
              "      <th>1</th>\n",
              "      <td>2015-12-17</td>\n",
              "      <td>124</td>\n",
              "      <td>126</td>\n",
              "      <td>122</td>\n",
              "      <td>17284900</td>\n",
              "      <td>123</td>\n",
              "    </tr>\n",
              "    <tr>\n",
              "      <th>2</th>\n",
              "      <td>2015-12-18</td>\n",
              "      <td>121</td>\n",
              "      <td>122</td>\n",
              "      <td>118</td>\n",
              "      <td>17948100</td>\n",
              "      <td>118</td>\n",
              "    </tr>\n",
              "    <tr>\n",
              "      <th>3</th>\n",
              "      <td>2015-12-21</td>\n",
              "      <td>120</td>\n",
              "      <td>120</td>\n",
              "      <td>116</td>\n",
              "      <td>11670000</td>\n",
              "      <td>117</td>\n",
              "    </tr>\n",
              "    <tr>\n",
              "      <th>4</th>\n",
              "      <td>2015-12-22</td>\n",
              "      <td>117</td>\n",
              "      <td>117</td>\n",
              "      <td>115</td>\n",
              "      <td>9689000</td>\n",
              "      <td>116</td>\n",
              "    </tr>\n",
              "  </tbody>\n",
              "</table>\n",
              "</div>\n",
              "    <div class=\"colab-df-buttons\">\n",
              "\n",
              "  <div class=\"colab-df-container\">\n",
              "    <button class=\"colab-df-convert\" onclick=\"convertToInteractive('df-57ccfe18-fcba-4be3-aae6-047dad34a77a')\"\n",
              "            title=\"Convert this dataframe to an interactive table.\"\n",
              "            style=\"display:none;\">\n",
              "\n",
              "  <svg xmlns=\"http://www.w3.org/2000/svg\" height=\"24px\" viewBox=\"0 -960 960 960\">\n",
              "    <path d=\"M120-120v-720h720v720H120Zm60-500h600v-160H180v160Zm220 220h160v-160H400v160Zm0 220h160v-160H400v160ZM180-400h160v-160H180v160Zm440 0h160v-160H620v160ZM180-180h160v-160H180v160Zm440 0h160v-160H620v160Z\"/>\n",
              "  </svg>\n",
              "    </button>\n",
              "\n",
              "  <style>\n",
              "    .colab-df-container {\n",
              "      display:flex;\n",
              "      gap: 12px;\n",
              "    }\n",
              "\n",
              "    .colab-df-convert {\n",
              "      background-color: #E8F0FE;\n",
              "      border: none;\n",
              "      border-radius: 50%;\n",
              "      cursor: pointer;\n",
              "      display: none;\n",
              "      fill: #1967D2;\n",
              "      height: 32px;\n",
              "      padding: 0 0 0 0;\n",
              "      width: 32px;\n",
              "    }\n",
              "\n",
              "    .colab-df-convert:hover {\n",
              "      background-color: #E2EBFA;\n",
              "      box-shadow: 0px 1px 2px rgba(60, 64, 67, 0.3), 0px 1px 3px 1px rgba(60, 64, 67, 0.15);\n",
              "      fill: #174EA6;\n",
              "    }\n",
              "\n",
              "    .colab-df-buttons div {\n",
              "      margin-bottom: 4px;\n",
              "    }\n",
              "\n",
              "    [theme=dark] .colab-df-convert {\n",
              "      background-color: #3B4455;\n",
              "      fill: #D2E3FC;\n",
              "    }\n",
              "\n",
              "    [theme=dark] .colab-df-convert:hover {\n",
              "      background-color: #434B5C;\n",
              "      box-shadow: 0px 1px 3px 1px rgba(0, 0, 0, 0.15);\n",
              "      filter: drop-shadow(0px 1px 2px rgba(0, 0, 0, 0.3));\n",
              "      fill: #FFFFFF;\n",
              "    }\n",
              "  </style>\n",
              "\n",
              "    <script>\n",
              "      const buttonEl =\n",
              "        document.querySelector('#df-57ccfe18-fcba-4be3-aae6-047dad34a77a button.colab-df-convert');\n",
              "      buttonEl.style.display =\n",
              "        google.colab.kernel.accessAllowed ? 'block' : 'none';\n",
              "\n",
              "      async function convertToInteractive(key) {\n",
              "        const element = document.querySelector('#df-57ccfe18-fcba-4be3-aae6-047dad34a77a');\n",
              "        const dataTable =\n",
              "          await google.colab.kernel.invokeFunction('convertToInteractive',\n",
              "                                                    [key], {});\n",
              "        if (!dataTable) return;\n",
              "\n",
              "        const docLinkHtml = 'Like what you see? Visit the ' +\n",
              "          '<a target=\"_blank\" href=https://colab.research.google.com/notebooks/data_table.ipynb>data table notebook</a>'\n",
              "          + ' to learn more about interactive tables.';\n",
              "        element.innerHTML = '';\n",
              "        dataTable['output_type'] = 'display_data';\n",
              "        await google.colab.output.renderOutput(dataTable, element);\n",
              "        const docLink = document.createElement('div');\n",
              "        docLink.innerHTML = docLinkHtml;\n",
              "        element.appendChild(docLink);\n",
              "      }\n",
              "    </script>\n",
              "  </div>\n",
              "\n",
              "\n",
              "<div id=\"df-2e25605a-6b9d-447c-90c6-a2aac7712d3c\">\n",
              "  <button class=\"colab-df-quickchart\" onclick=\"quickchart('df-2e25605a-6b9d-447c-90c6-a2aac7712d3c')\"\n",
              "            title=\"Suggest charts\"\n",
              "            style=\"display:none;\">\n",
              "\n",
              "<svg xmlns=\"http://www.w3.org/2000/svg\" height=\"24px\"viewBox=\"0 0 24 24\"\n",
              "     width=\"24px\">\n",
              "    <g>\n",
              "        <path d=\"M19 3H5c-1.1 0-2 .9-2 2v14c0 1.1.9 2 2 2h14c1.1 0 2-.9 2-2V5c0-1.1-.9-2-2-2zM9 17H7v-7h2v7zm4 0h-2V7h2v10zm4 0h-2v-4h2v4z\"/>\n",
              "    </g>\n",
              "</svg>\n",
              "  </button>\n",
              "\n",
              "<style>\n",
              "  .colab-df-quickchart {\n",
              "      --bg-color: #E8F0FE;\n",
              "      --fill-color: #1967D2;\n",
              "      --hover-bg-color: #E2EBFA;\n",
              "      --hover-fill-color: #174EA6;\n",
              "      --disabled-fill-color: #AAA;\n",
              "      --disabled-bg-color: #DDD;\n",
              "  }\n",
              "\n",
              "  [theme=dark] .colab-df-quickchart {\n",
              "      --bg-color: #3B4455;\n",
              "      --fill-color: #D2E3FC;\n",
              "      --hover-bg-color: #434B5C;\n",
              "      --hover-fill-color: #FFFFFF;\n",
              "      --disabled-bg-color: #3B4455;\n",
              "      --disabled-fill-color: #666;\n",
              "  }\n",
              "\n",
              "  .colab-df-quickchart {\n",
              "    background-color: var(--bg-color);\n",
              "    border: none;\n",
              "    border-radius: 50%;\n",
              "    cursor: pointer;\n",
              "    display: none;\n",
              "    fill: var(--fill-color);\n",
              "    height: 32px;\n",
              "    padding: 0;\n",
              "    width: 32px;\n",
              "  }\n",
              "\n",
              "  .colab-df-quickchart:hover {\n",
              "    background-color: var(--hover-bg-color);\n",
              "    box-shadow: 0 1px 2px rgba(60, 64, 67, 0.3), 0 1px 3px 1px rgba(60, 64, 67, 0.15);\n",
              "    fill: var(--button-hover-fill-color);\n",
              "  }\n",
              "\n",
              "  .colab-df-quickchart-complete:disabled,\n",
              "  .colab-df-quickchart-complete:disabled:hover {\n",
              "    background-color: var(--disabled-bg-color);\n",
              "    fill: var(--disabled-fill-color);\n",
              "    box-shadow: none;\n",
              "  }\n",
              "\n",
              "  .colab-df-spinner {\n",
              "    border: 2px solid var(--fill-color);\n",
              "    border-color: transparent;\n",
              "    border-bottom-color: var(--fill-color);\n",
              "    animation:\n",
              "      spin 1s steps(1) infinite;\n",
              "  }\n",
              "\n",
              "  @keyframes spin {\n",
              "    0% {\n",
              "      border-color: transparent;\n",
              "      border-bottom-color: var(--fill-color);\n",
              "      border-left-color: var(--fill-color);\n",
              "    }\n",
              "    20% {\n",
              "      border-color: transparent;\n",
              "      border-left-color: var(--fill-color);\n",
              "      border-top-color: var(--fill-color);\n",
              "    }\n",
              "    30% {\n",
              "      border-color: transparent;\n",
              "      border-left-color: var(--fill-color);\n",
              "      border-top-color: var(--fill-color);\n",
              "      border-right-color: var(--fill-color);\n",
              "    }\n",
              "    40% {\n",
              "      border-color: transparent;\n",
              "      border-right-color: var(--fill-color);\n",
              "      border-top-color: var(--fill-color);\n",
              "    }\n",
              "    60% {\n",
              "      border-color: transparent;\n",
              "      border-right-color: var(--fill-color);\n",
              "    }\n",
              "    80% {\n",
              "      border-color: transparent;\n",
              "      border-right-color: var(--fill-color);\n",
              "      border-bottom-color: var(--fill-color);\n",
              "    }\n",
              "    90% {\n",
              "      border-color: transparent;\n",
              "      border-bottom-color: var(--fill-color);\n",
              "    }\n",
              "  }\n",
              "</style>\n",
              "\n",
              "  <script>\n",
              "    async function quickchart(key) {\n",
              "      const quickchartButtonEl =\n",
              "        document.querySelector('#' + key + ' button');\n",
              "      quickchartButtonEl.disabled = true;  // To prevent multiple clicks.\n",
              "      quickchartButtonEl.classList.add('colab-df-spinner');\n",
              "      try {\n",
              "        const charts = await google.colab.kernel.invokeFunction(\n",
              "            'suggestCharts', [key], {});\n",
              "      } catch (error) {\n",
              "        console.error('Error during call to suggestCharts:', error);\n",
              "      }\n",
              "      quickchartButtonEl.classList.remove('colab-df-spinner');\n",
              "      quickchartButtonEl.classList.add('colab-df-quickchart-complete');\n",
              "    }\n",
              "    (() => {\n",
              "      let quickchartButtonEl =\n",
              "        document.querySelector('#df-2e25605a-6b9d-447c-90c6-a2aac7712d3c button');\n",
              "      quickchartButtonEl.style.display =\n",
              "        google.colab.kernel.accessAllowed ? 'block' : 'none';\n",
              "    })();\n",
              "  </script>\n",
              "</div>\n",
              "\n",
              "    </div>\n",
              "  </div>\n"
            ]
          },
          "metadata": {},
          "execution_count": 5
        }
      ],
      "source": [
        "import pandas as pd\n",
        "\n",
        "data = pd.read_csv(\"/content/sample_data/train.csv\")  # 데이터 파일을 읽어옴\n",
        "data.head()  # 5개의 데이터를 표시"
      ]
    },
    {
      "cell_type": "markdown",
      "source": [
        "# 데이터셋 전체 확인"
      ],
      "metadata": {
        "id": "SgpHQJEnG9MG"
      }
    },
    {
      "cell_type": "code",
      "source": [
        "data.info()"
      ],
      "metadata": {
        "colab": {
          "base_uri": "https://localhost:8080/"
        },
        "id": "NRuoxoESGAU3",
        "outputId": "4a606dcb-7d07-48dd-e841-7c740f682ad4"
      },
      "execution_count": 6,
      "outputs": [
        {
          "output_type": "stream",
          "name": "stdout",
          "text": [
            "<class 'pandas.core.frame.DataFrame'>\n",
            "RangeIndex: 967 entries, 0 to 966\n",
            "Data columns (total 6 columns):\n",
            " #   Column  Non-Null Count  Dtype \n",
            "---  ------  --------------  ----- \n",
            " 0   Date    967 non-null    object\n",
            " 1   Open    967 non-null    int64 \n",
            " 2   High    967 non-null    int64 \n",
            " 3   Low     967 non-null    int64 \n",
            " 4   Volume  967 non-null    int64 \n",
            " 5   Close   967 non-null    int64 \n",
            "dtypes: int64(5), object(1)\n",
            "memory usage: 45.5+ KB\n"
          ]
        }
      ]
    },
    {
      "cell_type": "markdown",
      "source": [
        "# 데이터의 분포 확인"
      ],
      "metadata": {
        "id": "GBiGhUaiHZlD"
      }
    },
    {
      "cell_type": "code",
      "source": [
        "import matplotlib.pyplot as plt\n",
        "\n",
        "data_used = data.iloc[:, 1:4]  # 개장가, 최고가, 최저가 추가\n",
        "data_used[\"Close\"] = data[\"Close\"]  # 종가 추가\n",
        "hist = data_used.hist()\n",
        "plt.show()"
      ],
      "metadata": {
        "colab": {
          "base_uri": "https://localhost:8080/",
          "height": 452
        },
        "id": "B8H4TSifGGuX",
        "outputId": "89590bbc-b574-4efa-e94f-c8ddaff35145"
      },
      "execution_count": 7,
      "outputs": [
        {
          "output_type": "display_data",
          "data": {
            "text/plain": [
              "<Figure size 640x480 with 4 Axes>"
            ],
            "image/png": "[encoded data removed]"
          },
          "metadata": {}
        }
      ]
    },
    {
      "cell_type": "markdown",
      "source": [
        "- 값의 범위가 100부터 400까지 넓게 형성되어 있음\n",
        "- 출력값의 범위가 커지면 오차의 범위도 커지고, 오차가 커지면 역전파되는 기울기도 커지기 때문에 안좋음\n",
        "- 따라서 값의 범위를 0부터 1사이로 정규화 하는 것이 좋아보임 (이를 최소-최대 정규화라고 함)\n",
        "- 이상치가 있을 때는 사용하지 않는 게 좋음"
      ],
      "metadata": {
        "id": "x3BR5OLNI_cU"
      }
    },
    {
      "cell_type": "markdown",
      "source": [
        "# 넷플릭스 데이터셋 정의\n",
        "\n",
        "- Dataset() 객체는 함수 3개를 제공함\n",
        "- __init__() 함수는 데이터셋 초기화를, __len__()은 데이터 개수를, __getitem__()은 특정 요소를 불러옴"
      ],
      "metadata": {
        "id": "W1RGkOjFH6f8"
      }
    },
    {
      "cell_type": "code",
      "source": [
        "import numpy as np\n",
        "\n",
        "from torch.utils.data.dataset import Dataset\n",
        "\n",
        "\n",
        "class Netflix(Dataset):  # ❶ 클래스 선언\n",
        "    def __init__(self):\n",
        "        self.csv = pd.read_csv(\"/content/sample_data/train.csv\")        # ❷ 데이터 읽기\n",
        "\n",
        "        # 입력 데이터 정규화\n",
        "        self.data = self.csv.iloc[:, 1:4].values   # ❸ 종가를 제외한 데이터\n",
        "        self.data = self.data / np.max(self.data)  # ➍ 0과 1 사이로 정규화\n",
        "        # 해당 데이터셋에서 가장 큰 값을 반환하고\n",
        "        # 이 값으로 모든 값을 나누고 데이터를 업데이트 함\n",
        "\n",
        "        # ➎ 종가 데이터 정규화\n",
        "        self.label = data[\"Close\"].values\n",
        "        self.label = self.label / np.max(self.label)\n",
        "\n",
        "    def __len__(self):\n",
        "        return len(self.data) - 30 # ❶ 사용 가능한 배치 개수\n",
        "        # 입력 데이터는 i 번째 날부터 i+29번째 날까지\n",
        "        # 종가 데이터는 i+30번째 날의 종가 데이터만 불러옴\n",
        "\n",
        "    def __getitem__(self, i):\n",
        "      # self.data 안에는 전체 데이터가 들어 있기 때문에 호출할 때마다 30개씩 불러와야 함\n",
        "      # 반면 정답 데이터 안에는 입력으로 읽어들인 30개 시점 바로 뒤에 오는 값을 읽어오면 됨\n",
        "        data = self.data[i:i+30] # ❶ 입력 데이터 30일치 읽기\n",
        "        label = self.label[i+30] # ❷ 종가 데이터 30일치 읽기\n",
        "\n",
        "        return data, label\n"
      ],
      "metadata": {
        "id": "e_U2yd9BH_w5"
      },
      "execution_count": 8,
      "outputs": []
    },
    {
      "cell_type": "markdown",
      "source": [
        "# RNN 클래스 정의하기"
      ],
      "metadata": {
        "id": "DR9KileiKpyS"
      }
    },
    {
      "cell_type": "code",
      "source": [
        "import torch\n",
        "import torch.nn as nn\n",
        "\n",
        "\n",
        "class RNN(nn.Module):\n",
        "   def __init__(self):\n",
        "       super(RNN, self).__init__()\n",
        "\n",
        "       self.rnn = nn.RNN(input_size=3, hidden_size=8, num_layers=5,\n",
        "                         batch_first=True)  # ❶ RNN층의 정의\n",
        "      # input_size는 입력 텐서의 특징 개수를 의미합니다.\n",
        "      # hidden_size는 RNN층에서 각 시점에서의 차원을 의미합니다.\n",
        "      # num_layers는 쌓을 RNN 층을 의미합니다. (보통 3이나 5를 사용합니다)\n",
        "      # batch_first는 배치 차원이 가장 앞으로 오게 하는 것을 의미합니다.\n",
        "\n",
        "       # ❷ 주가를 예측하는 MLP층 정의\n",
        "       self.fc1 = nn.Linear(in_features=240, out_features=64)\n",
        "       self.fc2 = nn.Linear(in_features=64, out_features=1)\n",
        "\n",
        "       self.relu = nn.ReLU() # 활성화 함수 정의\n",
        "\n",
        "   def forward(self, x, h0):\n",
        "       x, hn = self.rnn(x, h0)  # ❶ RNN층의 출력\n",
        "       # 파이토치의 RNN층은 출력값이 2개입니다.\n",
        "       # 첫 번째 출력인 x는 마지막 RNN층의 은닉 상태를,\n",
        "       # 두 번째 출력인 hn은 모든 RNN층의 은닉 상태를 반환\n",
        "       # 시계열 차원을 제거해서 MLP의 입력으로 사용하도록 텐서의 모양을 변경해줘야 함\n",
        "\n",
        "       # ❷ MLP층의 입력으로 사용될 수 있도록 모양 변경\n",
        "       x = torch.reshape(x, (x.shape[0], -1))\n",
        "       # reshape(tensor, shape)\n",
        "       # tensor를 shape 모양이 되도록 변환\n",
        "\n",
        "       # MLP 층을 이용해 종가를 예측\n",
        "       x = self.fc1(x)\n",
        "       x = self.relu(x)\n",
        "       x = self.fc2(x)\n",
        "\n",
        "       # 예측한 종가를 1차원 벡터로 표현\n",
        "       x = torch.flatten(x)\n",
        "\n",
        "       return x"
      ],
      "metadata": {
        "id": "jwusefYeKnwX"
      },
      "execution_count": 9,
      "outputs": []
    },
    {
      "cell_type": "markdown",
      "source": [
        "# 모델과 데이터셋 정의"
      ],
      "metadata": {
        "id": "41ogIyF6OpEf"
      }
    },
    {
      "cell_type": "code",
      "source": [
        "import tqdm\n",
        "\n",
        "from torch.optim.adam import Adam\n",
        "from torch.utils.data.dataloader import DataLoader\n",
        "\n",
        "device = \"cuda\" if torch.cuda.is_available() else \"cpu\"\n",
        "\n",
        "model = RNN().to(device)  # 모델의 정의\n",
        "dataset = Netflix()  # 데이터셋의 정의"
      ],
      "metadata": {
        "id": "Wy6BncC9Oner"
      },
      "execution_count": 10,
      "outputs": []
    },
    {
      "cell_type": "markdown",
      "source": [
        "# 데이터로더 정의"
      ],
      "metadata": {
        "id": "gFBE4NgPOykT"
      }
    },
    {
      "cell_type": "code",
      "source": [
        "loader = DataLoader(dataset, batch_size=32)  # 배치 크기를 32로 설정"
      ],
      "metadata": {
        "id": "R9uT1Ld7Ouko"
      },
      "execution_count": 11,
      "outputs": []
    },
    {
      "cell_type": "markdown",
      "source": [
        "# 최적화 정의"
      ],
      "metadata": {
        "id": "mnsqX5GtO2bK"
      }
    },
    {
      "cell_type": "code",
      "source": [
        "optim = Adam(params=model.parameters(), lr=0.0001) # 사용할 최적화를 설정"
      ],
      "metadata": {
        "id": "GmILury_O0z0"
      },
      "execution_count": 12,
      "outputs": []
    },
    {
      "cell_type": "markdown",
      "source": [
        "# 학습 루프 정의"
      ],
      "metadata": {
        "id": "tgYaKmi0O5OH"
      }
    },
    {
      "cell_type": "code",
      "source": [
        "for epoch in range(200):\n",
        "   iterator = tqdm.tqdm(loader)\n",
        "   for data, label in iterator:\n",
        "       optim.zero_grad()\n",
        "\n",
        "       # ❶ 초기 은닉 상태\n",
        "       # 은닉층의 모양은 RNN은 (은닉층 개수, 배치 크기, 출력의 차원)으로 구성\n",
        "       h0 = torch.zeros(5, data.shape[0], 8).to(device)\n",
        "       # zeros(A) : A 모양을 갖는 텐서를 반환, 이 때 모든 요소는 0으로 채워짐\n",
        "\n",
        "       # ❷ 모델의 예측값\n",
        "       pred = model(data.type(torch.FloatTensor).to(device), h0)\n",
        "\n",
        "       # ❸ 손실의 계산\n",
        "       loss = nn.MSELoss()(pred,\n",
        "                           label.type(torch.FloatTensor).to(device))\n",
        "       loss.backward()  # 오차 역전파\n",
        "       optim.step()  # 최적화 진행\n",
        "\n",
        "       iterator.set_description(f\"epoch{epoch} loss:{loss.item()}\")\n",
        "\n",
        "torch.save(model.state_dict(), \"./rnn.pth\")  # 모델 저장"
      ],
      "metadata": {
        "colab": {
          "base_uri": "https://localhost:8080/"
        },
        "id": "Y7YVSkI_O4AY",
        "outputId": "47f73bfd-3f33-449a-847c-a9d5e186db55"
      },
      "execution_count": 13,
      "outputs": [
        {
          "output_type": "stream",
          "name": "stderr",
          "text": [
            "epoch0 loss:0.0034307800233364105: 100%|██████████| 30/30 [00:00<00:00, 33.91it/s]\n",
            "epoch1 loss:0.006088592577725649: 100%|██████████| 30/30 [00:00<00:00, 167.17it/s]\n",
            "epoch2 loss:0.01046807412058115: 100%|██████████| 30/30 [00:00<00:00, 177.67it/s]\n",
            "epoch3 loss:0.008992328308522701: 100%|██████████| 30/30 [00:00<00:00, 176.63it/s]\n",
            "epoch4 loss:0.009016747586429119: 100%|██████████| 30/30 [00:00<00:00, 186.02it/s]\n",
            "epoch5 loss:0.009013239294290543: 100%|██████████| 30/30 [00:00<00:00, 170.80it/s]\n",
            "epoch6 loss:0.008975883014500141: 100%|██████████| 30/30 [00:00<00:00, 172.05it/s]\n",
            "epoch7 loss:0.008960803039371967: 100%|██████████| 30/30 [00:00<00:00, 171.10it/s]\n",
            "epoch8 loss:0.00894902553409338: 100%|██████████| 30/30 [00:00<00:00, 172.68it/s]\n",
            "epoch9 loss:0.008938942104578018: 100%|██████████| 30/30 [00:00<00:00, 183.16it/s]\n",
            "epoch10 loss:0.008929064497351646: 100%|██████████| 30/30 [00:00<00:00, 168.07it/s]\n",
            "epoch11 loss:0.008917816914618015: 100%|██████████| 30/30 [00:00<00:00, 173.51it/s]\n",
            "epoch12 loss:0.00890390295535326: 100%|██████████| 30/30 [00:00<00:00, 164.81it/s]\n",
            "epoch13 loss:0.008886137045919895: 100%|██████████| 30/30 [00:00<00:00, 180.00it/s]\n",
            "epoch14 loss:0.008863307535648346: 100%|██████████| 30/30 [00:00<00:00, 183.19it/s]\n",
            "epoch15 loss:0.00883415061980486: 100%|██████████| 30/30 [00:00<00:00, 176.19it/s]\n",
            "epoch16 loss:0.008797228336334229: 100%|██████████| 30/30 [00:00<00:00, 172.18it/s]\n",
            "epoch17 loss:0.008750556036829948: 100%|██████████| 30/30 [00:00<00:00, 165.97it/s]\n",
            "epoch18 loss:0.008693031966686249: 100%|██████████| 30/30 [00:00<00:00, 158.44it/s]\n",
            "epoch19 loss:0.008621537126600742: 100%|██████████| 30/30 [00:00<00:00, 178.03it/s]\n",
            "epoch20 loss:0.008533447980880737: 100%|██████████| 30/30 [00:00<00:00, 172.17it/s]\n",
            "epoch21 loss:0.008425201289355755: 100%|██████████| 30/30 [00:00<00:00, 175.00it/s]\n",
            "epoch22 loss:0.00829238910228014: 100%|██████████| 30/30 [00:00<00:00, 163.60it/s]\n",
            "epoch23 loss:0.008129437454044819: 100%|██████████| 30/30 [00:00<00:00, 166.99it/s]\n",
            "epoch24 loss:0.007929340936243534: 100%|██████████| 30/30 [00:00<00:00, 168.00it/s]\n",
            "epoch25 loss:0.007683091796934605: 100%|██████████| 30/30 [00:00<00:00, 171.23it/s]\n",
            "epoch26 loss:0.0071387821808457375: 100%|██████████| 30/30 [00:00<00:00, 174.13it/s]\n",
            "epoch27 loss:0.0066415113396942616: 100%|██████████| 30/30 [00:00<00:00, 165.74it/s]\n",
            "epoch28 loss:0.006372014991939068: 100%|██████████| 30/30 [00:00<00:00, 175.09it/s]\n",
            "epoch29 loss:0.005802370607852936: 100%|██████████| 30/30 [00:00<00:00, 162.85it/s]\n",
            "epoch30 loss:0.005097212735563517: 100%|██████████| 30/30 [00:00<00:00, 173.76it/s]\n",
            "epoch31 loss:0.0042189122177660465: 100%|██████████| 30/30 [00:00<00:00, 177.19it/s]\n",
            "epoch32 loss:0.003155825426802039: 100%|██████████| 30/30 [00:00<00:00, 176.75it/s]\n",
            "epoch33 loss:0.0019595446065068245: 100%|██████████| 30/30 [00:00<00:00, 176.79it/s]\n",
            "epoch34 loss:0.0007573983748443425: 100%|██████████| 30/30 [00:00<00:00, 184.39it/s]\n",
            "epoch35 loss:0.001467329217121005: 100%|██████████| 30/30 [00:00<00:00, 171.36it/s]\n",
            "epoch36 loss:0.002962495433166623: 100%|██████████| 30/30 [00:00<00:00, 168.03it/s]\n",
            "epoch37 loss:0.005930517800152302: 100%|██████████| 30/30 [00:00<00:00, 176.99it/s]\n",
            "epoch38 loss:0.007156818173825741: 100%|██████████| 30/30 [00:00<00:00, 172.27it/s]\n",
            "epoch39 loss:0.007130561862140894: 100%|██████████| 30/30 [00:00<00:00, 168.88it/s]\n",
            "epoch40 loss:0.006846118252724409: 100%|██████████| 30/30 [00:00<00:00, 180.06it/s]\n",
            "epoch41 loss:0.006783776916563511: 100%|██████████| 30/30 [00:00<00:00, 167.29it/s]\n",
            "epoch42 loss:0.006784385535866022: 100%|██████████| 30/30 [00:00<00:00, 178.18it/s]\n",
            "epoch43 loss:0.006730302236974239: 100%|██████████| 30/30 [00:00<00:00, 181.61it/s]\n",
            "epoch44 loss:0.006694175768643618: 100%|██████████| 30/30 [00:00<00:00, 173.53it/s]\n",
            "epoch45 loss:0.00666824821382761: 100%|██████████| 30/30 [00:00<00:00, 177.36it/s]\n",
            "epoch46 loss:0.006645805202424526: 100%|██████████| 30/30 [00:00<00:00, 172.93it/s]\n",
            "epoch47 loss:0.006617709994316101: 100%|██████████| 30/30 [00:00<00:00, 167.68it/s]\n",
            "epoch48 loss:0.006599536631256342: 100%|██████████| 30/30 [00:00<00:00, 141.04it/s]\n",
            "epoch49 loss:0.006583848036825657: 100%|██████████| 30/30 [00:00<00:00, 122.25it/s]\n",
            "epoch50 loss:0.006564571522176266: 100%|██████████| 30/30 [00:00<00:00, 76.08it/s]\n",
            "epoch51 loss:0.006549538113176823: 100%|██████████| 30/30 [00:00<00:00, 86.95it/s]\n",
            "epoch52 loss:0.0065319230780005455: 100%|██████████| 30/30 [00:00<00:00, 84.32it/s]\n",
            "epoch53 loss:0.006518888752907515: 100%|██████████| 30/30 [00:00<00:00, 117.20it/s]\n",
            "epoch54 loss:0.006502459291368723: 100%|██████████| 30/30 [00:00<00:00, 144.66it/s]\n",
            "epoch55 loss:0.006488814949989319: 100%|██████████| 30/30 [00:00<00:00, 149.50it/s]\n",
            "epoch56 loss:0.006464565638452768: 100%|██████████| 30/30 [00:00<00:00, 144.18it/s]\n",
            "epoch57 loss:0.006459975615143776: 100%|██████████| 30/30 [00:00<00:00, 154.03it/s]\n",
            "epoch58 loss:0.006442384794354439: 100%|██████████| 30/30 [00:00<00:00, 148.73it/s]\n",
            "epoch59 loss:0.006438559386879206: 100%|██████████| 30/30 [00:00<00:00, 149.27it/s]\n",
            "epoch60 loss:0.006406254135072231: 100%|██████████| 30/30 [00:00<00:00, 149.88it/s]\n",
            "epoch61 loss:0.006405925843864679: 100%|██████████| 30/30 [00:00<00:00, 138.71it/s]\n",
            "epoch62 loss:0.006382375955581665: 100%|██████████| 30/30 [00:00<00:00, 150.43it/s]\n",
            "epoch63 loss:0.006383983418345451: 100%|██████████| 30/30 [00:00<00:00, 152.89it/s]\n",
            "epoch64 loss:0.006361117586493492: 100%|██████████| 30/30 [00:00<00:00, 140.88it/s]\n",
            "epoch65 loss:0.006364676170051098: 100%|██████████| 30/30 [00:00<00:00, 149.37it/s]\n",
            "epoch66 loss:0.006348216440528631: 100%|██████████| 30/30 [00:00<00:00, 149.09it/s]\n",
            "epoch67 loss:0.0063390848226845264: 100%|██████████| 30/30 [00:00<00:00, 141.16it/s]\n",
            "epoch68 loss:0.0063331942074000835: 100%|██████████| 30/30 [00:00<00:00, 159.26it/s]\n",
            "epoch69 loss:0.006333163473755121: 100%|██████████| 30/30 [00:00<00:00, 166.04it/s]\n",
            "epoch70 loss:0.0063216411508619785: 100%|██████████| 30/30 [00:00<00:00, 170.47it/s]\n",
            "epoch71 loss:0.006306578870862722: 100%|██████████| 30/30 [00:00<00:00, 164.70it/s]\n",
            "epoch72 loss:0.006296488922089338: 100%|██████████| 30/30 [00:00<00:00, 168.59it/s]\n",
            "epoch73 loss:0.00628981739282608: 100%|██████████| 30/30 [00:00<00:00, 167.57it/s]\n",
            "epoch74 loss:0.00627316115424037: 100%|██████████| 30/30 [00:00<00:00, 170.36it/s]\n",
            "epoch75 loss:0.006274079438298941: 100%|██████████| 30/30 [00:00<00:00, 119.39it/s]\n",
            "epoch76 loss:0.006244795862585306: 100%|██████████| 30/30 [00:00<00:00, 90.19it/s]\n",
            "epoch77 loss:0.0062555368058383465: 100%|██████████| 30/30 [00:00<00:00, 123.51it/s]\n",
            "epoch78 loss:0.006226173136383295: 100%|██████████| 30/30 [00:00<00:00, 177.63it/s]\n",
            "epoch79 loss:0.006239183247089386: 100%|██████████| 30/30 [00:00<00:00, 169.64it/s]\n",
            "epoch80 loss:0.006209141109138727: 100%|██████████| 30/30 [00:00<00:00, 170.74it/s]\n",
            "epoch81 loss:0.006224385462701321: 100%|██████████| 30/30 [00:00<00:00, 169.87it/s]\n",
            "epoch82 loss:0.006194785237312317: 100%|██████████| 30/30 [00:00<00:00, 173.23it/s]\n",
            "epoch83 loss:0.006200964562594891: 100%|██████████| 30/30 [00:00<00:00, 159.31it/s]\n",
            "epoch84 loss:0.006181924603879452: 100%|██████████| 30/30 [00:00<00:00, 169.11it/s]\n",
            "epoch85 loss:0.006184335332363844: 100%|██████████| 30/30 [00:00<00:00, 149.28it/s]\n",
            "epoch86 loss:0.0061625526286661625: 100%|██████████| 30/30 [00:00<00:00, 170.84it/s]\n",
            "epoch87 loss:0.0061637721955776215: 100%|██████████| 30/30 [00:00<00:00, 170.94it/s]\n",
            "epoch88 loss:0.0061477841809391975: 100%|██████████| 30/30 [00:00<00:00, 165.24it/s]\n",
            "epoch89 loss:0.006140639074146748: 100%|██████████| 30/30 [00:00<00:00, 177.94it/s]\n",
            "epoch90 loss:0.006136344745755196: 100%|██████████| 30/30 [00:00<00:00, 164.83it/s]\n",
            "epoch91 loss:0.006130676716566086: 100%|██████████| 30/30 [00:00<00:00, 165.90it/s]\n",
            "epoch92 loss:0.0061133503913879395: 100%|██████████| 30/30 [00:00<00:00, 167.11it/s]\n",
            "epoch93 loss:0.006097154226154089: 100%|██████████| 30/30 [00:00<00:00, 165.35it/s]\n",
            "epoch94 loss:0.006081573665142059: 100%|██████████| 30/30 [00:00<00:00, 166.15it/s]\n",
            "epoch95 loss:0.006082839332520962: 100%|██████████| 30/30 [00:00<00:00, 171.64it/s]\n",
            "epoch96 loss:0.006061109248548746: 100%|██████████| 30/30 [00:00<00:00, 151.06it/s]\n",
            "epoch97 loss:0.006059533450752497: 100%|██████████| 30/30 [00:00<00:00, 166.13it/s]\n",
            "epoch98 loss:0.006035945378243923: 100%|██████████| 30/30 [00:00<00:00, 165.56it/s]\n",
            "epoch99 loss:0.006029043346643448: 100%|██████████| 30/30 [00:00<00:00, 181.09it/s]\n",
            "epoch100 loss:0.006011890713125467: 100%|██████████| 30/30 [00:00<00:00, 171.04it/s]\n",
            "epoch101 loss:0.005998542997986078: 100%|██████████| 30/30 [00:00<00:00, 157.71it/s]\n",
            "epoch102 loss:0.005977713502943516: 100%|██████████| 30/30 [00:00<00:00, 173.27it/s]\n",
            "epoch103 loss:0.005966219585388899: 100%|██████████| 30/30 [00:00<00:00, 167.62it/s]\n",
            "epoch104 loss:0.005962735507637262: 100%|██████████| 30/30 [00:00<00:00, 162.62it/s]\n",
            "epoch105 loss:0.005934400949627161: 100%|██████████| 30/30 [00:00<00:00, 172.27it/s]\n",
            "epoch106 loss:0.005939260125160217: 100%|██████████| 30/30 [00:00<00:00, 163.15it/s]\n",
            "epoch107 loss:0.005925830453634262: 100%|██████████| 30/30 [00:00<00:00, 164.01it/s]\n",
            "epoch108 loss:0.005913183558732271: 100%|██████████| 30/30 [00:00<00:00, 166.09it/s]\n",
            "epoch109 loss:0.005898748058825731: 100%|██████████| 30/30 [00:00<00:00, 163.54it/s]\n",
            "epoch110 loss:0.00587812252342701: 100%|██████████| 30/30 [00:00<00:00, 162.97it/s]\n",
            "epoch111 loss:0.005869193933904171: 100%|██████████| 30/30 [00:00<00:00, 162.40it/s]\n",
            "epoch112 loss:0.005862035788595676: 100%|██████████| 30/30 [00:00<00:00, 168.84it/s]\n",
            "epoch113 loss:0.005817724391818047: 100%|██████████| 30/30 [00:00<00:00, 160.86it/s]\n",
            "epoch114 loss:0.0058008823543787: 100%|██████████| 30/30 [00:00<00:00, 159.75it/s]\n",
            "epoch115 loss:0.005769175942987204: 100%|██████████| 30/30 [00:00<00:00, 176.01it/s]\n",
            "epoch116 loss:0.005773609969764948: 100%|██████████| 30/30 [00:00<00:00, 164.65it/s]\n",
            "epoch117 loss:0.00572366826236248: 100%|██████████| 30/30 [00:00<00:00, 167.60it/s]\n",
            "epoch118 loss:0.005759536754339933: 100%|██████████| 30/30 [00:00<00:00, 156.24it/s]\n",
            "epoch119 loss:0.005726230796426535: 100%|██████████| 30/30 [00:00<00:00, 166.32it/s]\n",
            "epoch120 loss:0.005734424106776714: 100%|██████████| 30/30 [00:00<00:00, 146.68it/s]\n",
            "epoch121 loss:0.0056851026602089405: 100%|██████████| 30/30 [00:00<00:00, 150.98it/s]\n",
            "epoch122 loss:0.005688037723302841: 100%|██████████| 30/30 [00:00<00:00, 151.44it/s]\n",
            "epoch123 loss:0.005614710506051779: 100%|██████████| 30/30 [00:00<00:00, 156.94it/s]\n",
            "epoch124 loss:0.005636417306959629: 100%|██████████| 30/30 [00:00<00:00, 160.47it/s]\n",
            "epoch125 loss:0.005584659054875374: 100%|██████████| 30/30 [00:00<00:00, 160.29it/s]\n",
            "epoch126 loss:0.005595861468464136: 100%|██████████| 30/30 [00:00<00:00, 164.77it/s]\n",
            "epoch127 loss:0.005529573652893305: 100%|██████████| 30/30 [00:00<00:00, 162.03it/s]\n",
            "epoch128 loss:0.005551873706281185: 100%|██████████| 30/30 [00:00<00:00, 141.05it/s]\n",
            "epoch129 loss:0.005488932132720947: 100%|██████████| 30/30 [00:00<00:00, 73.85it/s]\n",
            "epoch130 loss:0.005495207384228706: 100%|██████████| 30/30 [00:00<00:00, 85.18it/s]\n",
            "epoch131 loss:0.005446644499897957: 100%|██████████| 30/30 [00:00<00:00, 154.39it/s]\n",
            "epoch132 loss:0.0054243472404778: 100%|██████████| 30/30 [00:00<00:00, 145.44it/s]\n",
            "epoch133 loss:0.005392531864345074: 100%|██████████| 30/30 [00:00<00:00, 136.85it/s]\n",
            "epoch134 loss:0.0053743403404951096: 100%|██████████| 30/30 [00:00<00:00, 145.30it/s]\n",
            "epoch135 loss:0.005327682010829449: 100%|██████████| 30/30 [00:00<00:00, 140.94it/s]\n",
            "epoch136 loss:0.005301825702190399: 100%|██████████| 30/30 [00:00<00:00, 137.47it/s]\n",
            "epoch137 loss:0.005265860352665186: 100%|██████████| 30/30 [00:00<00:00, 130.46it/s]\n",
            "epoch138 loss:0.005251528229564428: 100%|██████████| 30/30 [00:00<00:00, 158.77it/s]\n",
            "epoch139 loss:0.005208934191614389: 100%|██████████| 30/30 [00:00<00:00, 152.20it/s]\n",
            "epoch140 loss:0.0051864697597920895: 100%|██████████| 30/30 [00:00<00:00, 156.14it/s]\n",
            "epoch141 loss:0.005151588935405016: 100%|██████████| 30/30 [00:00<00:00, 147.66it/s]\n",
            "epoch142 loss:0.0051196482963860035: 100%|██████████| 30/30 [00:00<00:00, 152.19it/s]\n",
            "epoch143 loss:0.005077224690467119: 100%|██████████| 30/30 [00:00<00:00, 155.72it/s]\n",
            "epoch144 loss:0.0050378344021737576: 100%|██████████| 30/30 [00:00<00:00, 150.99it/s]\n",
            "epoch145 loss:0.004976032767444849: 100%|██████████| 30/30 [00:00<00:00, 149.52it/s]\n",
            "epoch146 loss:0.004936388228088617: 100%|██████████| 30/30 [00:00<00:00, 157.39it/s]\n",
            "epoch147 loss:0.004897878039628267: 100%|██████████| 30/30 [00:00<00:00, 152.88it/s]\n",
            "epoch148 loss:0.004866140428930521: 100%|██████████| 30/30 [00:00<00:00, 143.47it/s]\n",
            "epoch149 loss:0.004835124593228102: 100%|██████████| 30/30 [00:00<00:00, 135.98it/s]\n",
            "epoch150 loss:0.004803209099918604: 100%|██████████| 30/30 [00:00<00:00, 135.90it/s]\n",
            "epoch151 loss:0.004761117044836283: 100%|██████████| 30/30 [00:00<00:00, 153.42it/s]\n",
            "epoch152 loss:0.004729622509330511: 100%|██████████| 30/30 [00:00<00:00, 163.56it/s]\n",
            "epoch153 loss:0.004685492254793644: 100%|██████████| 30/30 [00:00<00:00, 161.01it/s]\n",
            "epoch154 loss:0.004642600193619728: 100%|██████████| 30/30 [00:00<00:00, 160.53it/s]\n",
            "epoch155 loss:0.004597984254360199: 100%|██████████| 30/30 [00:00<00:00, 163.19it/s]\n",
            "epoch156 loss:0.004556982312351465: 100%|██████████| 30/30 [00:00<00:00, 171.52it/s]\n",
            "epoch157 loss:0.0045067970640957355: 100%|██████████| 30/30 [00:00<00:00, 158.85it/s]\n",
            "epoch158 loss:0.004463612101972103: 100%|██████████| 30/30 [00:00<00:00, 101.49it/s]\n",
            "epoch159 loss:0.004411197267472744: 100%|██████████| 30/30 [00:00<00:00, 98.38it/s]\n",
            "epoch160 loss:0.004367358051240444: 100%|██████████| 30/30 [00:00<00:00, 101.49it/s]\n",
            "epoch161 loss:0.004316260572522879: 100%|██████████| 30/30 [00:00<00:00, 162.00it/s]\n",
            "epoch162 loss:0.0042737931944429874: 100%|██████████| 30/30 [00:00<00:00, 156.04it/s]\n",
            "epoch163 loss:0.004230659920722246: 100%|██████████| 30/30 [00:00<00:00, 158.10it/s]\n",
            "epoch164 loss:0.004191501997411251: 100%|██████████| 30/30 [00:00<00:00, 156.52it/s]\n",
            "epoch165 loss:0.004113673232495785: 100%|██████████| 30/30 [00:00<00:00, 158.42it/s]\n",
            "epoch166 loss:0.004074777010828257: 100%|██████████| 30/30 [00:00<00:00, 161.34it/s]\n",
            "epoch167 loss:0.004036131780594587: 100%|██████████| 30/30 [00:00<00:00, 163.59it/s]\n",
            "epoch168 loss:0.003993924241513014: 100%|██████████| 30/30 [00:00<00:00, 169.92it/s]\n",
            "epoch169 loss:0.003964057192206383: 100%|██████████| 30/30 [00:00<00:00, 159.65it/s]\n",
            "epoch170 loss:0.003911481238901615: 100%|██████████| 30/30 [00:00<00:00, 157.82it/s]\n",
            "epoch171 loss:0.0038727899082005024: 100%|██████████| 30/30 [00:00<00:00, 159.44it/s]\n",
            "epoch172 loss:0.003807295113801956: 100%|██████████| 30/30 [00:00<00:00, 149.94it/s]\n",
            "epoch173 loss:0.0037563678342849016: 100%|██████████| 30/30 [00:00<00:00, 158.06it/s]\n",
            "epoch174 loss:0.0036925028543919325: 100%|██████████| 30/30 [00:00<00:00, 163.35it/s]\n",
            "epoch175 loss:0.0036358865909278393: 100%|██████████| 30/30 [00:00<00:00, 160.74it/s]\n",
            "epoch176 loss:0.003557415446266532: 100%|██████████| 30/30 [00:00<00:00, 154.75it/s]\n",
            "epoch177 loss:0.0035146388690918684: 100%|██████████| 30/30 [00:00<00:00, 171.69it/s]\n",
            "epoch178 loss:0.003442996647208929: 100%|██████████| 30/30 [00:00<00:00, 153.75it/s]\n",
            "epoch179 loss:0.003400893183425069: 100%|██████████| 30/30 [00:00<00:00, 145.65it/s]\n",
            "epoch180 loss:0.0033430205658078194: 100%|██████████| 30/30 [00:00<00:00, 154.78it/s]\n",
            "epoch181 loss:0.003318600356578827: 100%|██████████| 30/30 [00:00<00:00, 165.83it/s]\n",
            "epoch182 loss:0.0032715797424316406: 100%|██████████| 30/30 [00:00<00:00, 169.36it/s]\n",
            "epoch183 loss:0.00324793322943151: 100%|██████████| 30/30 [00:00<00:00, 151.90it/s]\n",
            "epoch184 loss:0.0032073217444121838: 100%|██████████| 30/30 [00:00<00:00, 160.19it/s]\n",
            "epoch185 loss:0.003167208516970277: 100%|██████████| 30/30 [00:00<00:00, 160.26it/s]\n",
            "epoch186 loss:0.0031101899221539497: 100%|██████████| 30/30 [00:00<00:00, 172.70it/s]\n",
            "epoch187 loss:0.0030501640867441893: 100%|██████████| 30/30 [00:00<00:00, 166.34it/s]\n",
            "epoch188 loss:0.002976084593683481: 100%|██████████| 30/30 [00:00<00:00, 160.75it/s]\n",
            "epoch189 loss:0.0029010318685323: 100%|██████████| 30/30 [00:00<00:00, 154.71it/s]\n",
            "epoch190 loss:0.0028182980604469776: 100%|██████████| 30/30 [00:00<00:00, 159.96it/s]\n",
            "epoch191 loss:0.0027397675439715385: 100%|██████████| 30/30 [00:00<00:00, 161.27it/s]\n",
            "epoch192 loss:0.002659566467627883: 100%|██████████| 30/30 [00:00<00:00, 168.16it/s]\n",
            "epoch193 loss:0.002600358799099922: 100%|██████████| 30/30 [00:00<00:00, 167.40it/s]\n",
            "epoch194 loss:0.0025418715085834265: 100%|██████████| 30/30 [00:00<00:00, 153.08it/s]\n",
            "epoch195 loss:0.0025013876147568226: 100%|██████████| 30/30 [00:00<00:00, 164.06it/s]\n",
            "epoch196 loss:0.0024771636817604303: 100%|██████████| 30/30 [00:00<00:00, 152.41it/s]\n",
            "epoch197 loss:0.0024596836883574724: 100%|██████████| 30/30 [00:00<00:00, 162.87it/s]\n",
            "epoch198 loss:0.002462411765009165: 100%|██████████| 30/30 [00:00<00:00, 159.29it/s]\n",
            "epoch199 loss:0.002451858716085553: 100%|██████████| 30/30 [00:00<00:00, 97.22it/s]\n"
          ]
        }
      ]
    },
    {
      "cell_type": "markdown",
      "source": [
        "# 모델 성능 평가하기"
      ],
      "metadata": {
        "id": "DD8J-fMOPh0t"
      }
    },
    {
      "cell_type": "code",
      "source": [
        "import matplotlib.pyplot as plt\n",
        "\n",
        "loader = DataLoader(dataset, batch_size=1)  # 예측값을 위한 데이터 로더\n",
        "\n",
        "preds = []  # 예측값들을 저장하는 리스트\n",
        "total_loss = 0\n",
        "\n",
        "with torch.no_grad():\n",
        "   # 모델의 가중치 불러오기\n",
        "   model.load_state_dict(torch.load(\"rnn.pth\", map_location=device))\n",
        "\n",
        "   for data, label in loader:\n",
        "       h0 = torch.zeros(5, data.shape[0], 8).to(device)  # ➊초기 은닉상태 정의\n",
        "\n",
        "       # 모델의 예측값 출력\n",
        "       pred = model(data.type(torch.FloatTensor).to(device), h0)\n",
        "       preds.append(pred.item())  # ➋예측값을 리스트에 추가\n",
        "       loss = nn.MSELoss()(pred,\n",
        "                           label.type(torch.FloatTensor).to(device))  # 손실계산\n",
        "       total_loss += loss/len(loader)  # ➌손실의 평균치 계산\n",
        "\n",
        "total_loss.item()"
      ],
      "metadata": {
        "colab": {
          "base_uri": "https://localhost:8080/"
        },
        "id": "wBYUKUqnPfUT",
        "outputId": "75d7fd63-8ead-456b-e2c3-d68b0300ea2e"
      },
      "execution_count": 14,
      "outputs": [
        {
          "output_type": "execute_result",
          "data": {
            "text/plain": [
              "0.0032713026739656925"
            ]
          },
          "metadata": {},
          "execution_count": 14
        }
      ]
    },
    {
      "cell_type": "markdown",
      "source": [
        "# 그림으로 확인하기"
      ],
      "metadata": {
        "id": "8LDggPtbPsn4"
      }
    },
    {
      "cell_type": "code",
      "source": [
        "plt.plot(preds, label=\"prediction\")\n",
        "plt.plot(dataset.label[30:], label=\"actual\")\n",
        "plt.legend()\n",
        "plt.show()"
      ],
      "metadata": {
        "colab": {
          "base_uri": "https://localhost:8080/",
          "height": 430
        },
        "id": "iOencwOEPrCU",
        "outputId": "f7135f90-645d-4522-a1c4-e3becc52fc2f"
      },
      "execution_count": 15,
      "outputs": [
        {
          "output_type": "display_data",
          "data": {
            "text/plain": [
              "<Figure size 640x480 with 1 Axes>"
            ],
            "image/png": "[encoded data removed]"
          },
          "metadata": {}
        }
      ]
    }
  ]
}