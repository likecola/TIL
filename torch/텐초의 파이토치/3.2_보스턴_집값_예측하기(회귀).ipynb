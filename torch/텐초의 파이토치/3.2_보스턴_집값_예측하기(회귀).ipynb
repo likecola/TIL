{
 "cells": [
  {
   "cell_type": "markdown",
   "metadata": {},
   "source": [
    "## 보스턴 데이터셋의 특징 출력"
   ]
  },
  {
   "cell_type": "code",
   "execution_count": 3,
   "metadata": {},
   "outputs": [
    {
     "name": "stdout",
     "output_type": "stream",
     "text": [
      "^C\n"
     ]
    }
   ],
   "source": [
    "!pip install scikit-learn==1.0.2"
   ]
  },
  {
   "cell_type": "markdown",
   "metadata": {},
   "source": [
    "scikit-learn 버전이 업그레이드 되면서 문제 발생    \n",
    "특정 버전으로 다시 설치 필요 (윤리적 문제 이슈로 사용을 지양함)"
   ]
  },
  {
   "cell_type": "code",
   "execution_count": 1,
   "metadata": {},
   "outputs": [
    {
     "name": "stdout",
     "output_type": "stream",
     "text": [
      "1.3.0\n"
     ]
    }
   ],
   "source": [
    "import sklearn\n",
    "print(sklearn.__version__)"
   ]
  },
  {
   "cell_type": "code",
   "execution_count": null,
   "metadata": {},
   "outputs": [
    {
     "name": "stdout",
     "output_type": "stream",
     "text": [
      "Collecting scikit-learn==1.0.2\n",
      "  Using cached scikit-learn-1.0.2.tar.gz (6.7 MB)\n",
      "  Installing build dependencies: started\n",
      "  Installing build dependencies: finished with status 'done'\n",
      "  Getting requirements to build wheel: started\n",
      "  Getting requirements to build wheel: finished with status 'done'\n",
      "  Preparing metadata (pyproject.toml): started\n",
      "  Preparing metadata (pyproject.toml): finished with status 'error'\n"
     ]
    },
    {
     "name": "stderr",
     "output_type": "stream",
     "text": [
      "  error: subprocess-exited-with-error\n",
      "  \n",
      "  × Preparing metadata (pyproject.toml) did not run successfully.\n",
      "  │ exit code: 1\n",
      "  ╰─> [66 lines of output]\n",
      "      Partial import of sklearn during the build process.\n",
      "      setup.py:128: DeprecationWarning:\n",
      "      \n",
      "        `numpy.distutils` is deprecated since NumPy 1.23.0, as a result\n",
      "        of the deprecation of `distutils` itself. It will be removed for\n",
      "        Python >= 3.12. For older Python versions it will remain present.\n",
      "        It is recommended to use `setuptools < 60.0` for those Python versions.\n",
      "        For more details, see:\n",
      "          https://numpy.org/devdocs/reference/distutils_status_migration.html\n",
      "      \n",
      "      \n",
      "        from numpy.distutils.command.build_ext import build_ext  # noqa\n",
      "      INFO: No module named 'numpy.distutils._msvccompiler' in numpy.distutils; trying from distutils\n",
      "      Traceback (most recent call last):\n",
      "        File \"C:\\Users\\rnqhg\\anaconda3\\Lib\\site-packages\\pip\\_vendor\\pyproject_hooks\\_in_process\\_in_process.py\", line 353, in <module>\n",
      "          main()\n",
      "        File \"C:\\Users\\rnqhg\\anaconda3\\Lib\\site-packages\\pip\\_vendor\\pyproject_hooks\\_in_process\\_in_process.py\", line 335, in main\n",
      "          json_out['return_val'] = hook(**hook_input['kwargs'])\n",
      "                                   ^^^^^^^^^^^^^^^^^^^^^^^^^^^^\n",
      "        File \"C:\\Users\\rnqhg\\anaconda3\\Lib\\site-packages\\pip\\_vendor\\pyproject_hooks\\_in_process\\_in_process.py\", line 149, in prepare_metadata_for_build_wheel\n",
      "          return hook(metadata_directory, config_settings)\n",
      "                 ^^^^^^^^^^^^^^^^^^^^^^^^^^^^^^^^^^^^^^^^^\n",
      "        File \"C:\\Users\\rnqhg\\AppData\\Local\\Temp\\pip-build-env-9pjzsexi\\overlay\\Lib\\site-packages\\setuptools\\build_meta.py\", line 174, in prepare_metadata_for_build_wheel\n",
      "          self.run_setup()\n",
      "        File \"C:\\Users\\rnqhg\\AppData\\Local\\Temp\\pip-build-env-9pjzsexi\\overlay\\Lib\\site-packages\\setuptools\\build_meta.py\", line 268, in run_setup\n",
      "          self).run_setup(setup_script=setup_script)\n",
      "                ^^^^^^^^^^^^^^^^^^^^^^^^^^^^^^^^^^^^\n",
      "        File \"C:\\Users\\rnqhg\\AppData\\Local\\Temp\\pip-build-env-9pjzsexi\\overlay\\Lib\\site-packages\\setuptools\\build_meta.py\", line 158, in run_setup\n",
      "          exec(compile(code, __file__, 'exec'), locals())\n",
      "        File \"setup.py\", line 319, in <module>\n",
      "          setup_package()\n",
      "        File \"setup.py\", line 315, in setup_package\n",
      "          setup(**metadata)\n",
      "        File \"C:\\Users\\rnqhg\\AppData\\Local\\Temp\\pip-build-env-9pjzsexi\\overlay\\Lib\\site-packages\\numpy\\distutils\\core.py\", line 135, in setup\n",
      "          config = configuration()\n",
      "                   ^^^^^^^^^^^^^^^\n",
      "        File \"setup.py\", line 201, in configuration\n",
      "          config.add_subpackage(\"sklearn\")\n",
      "        File \"C:\\Users\\rnqhg\\AppData\\Local\\Temp\\pip-build-env-9pjzsexi\\overlay\\Lib\\site-packages\\numpy\\distutils\\misc_util.py\", line 1050, in add_subpackage\n",
      "          config_list = self.get_subpackage(subpackage_name, subpackage_path,\n",
      "                        ^^^^^^^^^^^^^^^^^^^^^^^^^^^^^^^^^^^^^^^^^^^^^^^^^^^^^\n",
      "        File \"C:\\Users\\rnqhg\\AppData\\Local\\Temp\\pip-build-env-9pjzsexi\\overlay\\Lib\\site-packages\\numpy\\distutils\\misc_util.py\", line 1016, in get_subpackage\n",
      "          config = self._get_configuration_from_setup_py(\n",
      "                   ^^^^^^^^^^^^^^^^^^^^^^^^^^^^^^^^^^^^^^\n",
      "        File \"C:\\Users\\rnqhg\\AppData\\Local\\Temp\\pip-build-env-9pjzsexi\\overlay\\Lib\\site-packages\\numpy\\distutils\\misc_util.py\", line 958, in _get_configuration_from_setup_py\n",
      "          config = setup_module.configuration(*args)\n",
      "                   ^^^^^^^^^^^^^^^^^^^^^^^^^^^^^^^^^\n",
      "        File \"C:\\Users\\rnqhg\\AppData\\Local\\Temp\\pip-install-ous68dqd\\scikit-learn_eba3cdc1eb3545958cb396e6cc49e41e\\sklearn\\setup.py\", line 85, in configuration\n",
      "          cythonize_extensions(top_path, config)\n",
      "        File \"C:\\Users\\rnqhg\\AppData\\Local\\Temp\\pip-install-ous68dqd\\scikit-learn_eba3cdc1eb3545958cb396e6cc49e41e\\sklearn\\_build_utils\\__init__.py\", line 47, in cythonize_extensions\n",
      "          basic_check_build()\n",
      "        File \"C:\\Users\\rnqhg\\AppData\\Local\\Temp\\pip-install-ous68dqd\\scikit-learn_eba3cdc1eb3545958cb396e6cc49e41e\\sklearn\\_build_utils\\pre_build_helpers.py\", line 114, in basic_check_build\n",
      "          compile_test_program(code)\n",
      "        File \"C:\\Users\\rnqhg\\AppData\\Local\\Temp\\pip-install-ous68dqd\\scikit-learn_eba3cdc1eb3545958cb396e6cc49e41e\\sklearn\\_build_utils\\pre_build_helpers.py\", line 70, in compile_test_program\n",
      "          ccompiler.compile(\n",
      "        File \"C:\\Users\\rnqhg\\AppData\\Local\\Temp\\pip-build-env-9pjzsexi\\overlay\\Lib\\site-packages\\setuptools\\_distutils\\_msvccompiler.py\", line 327, in compile\n",
      "          self.initialize()\n",
      "        File \"C:\\Users\\rnqhg\\AppData\\Local\\Temp\\pip-build-env-9pjzsexi\\overlay\\Lib\\site-packages\\setuptools\\_distutils\\_msvccompiler.py\", line 224, in initialize\n",
      "          vc_env = _get_vc_env(plat_spec)\n",
      "                   ^^^^^^^^^^^^^^^^^^^^^^\n",
      "        File \"C:\\Users\\rnqhg\\AppData\\Local\\Temp\\pip-build-env-9pjzsexi\\overlay\\Lib\\site-packages\\setuptools\\msvc.py\", line 316, in msvc14_get_vc_env\n",
      "          return _msvc14_get_vc_env(plat_spec)\n",
      "                 ^^^^^^^^^^^^^^^^^^^^^^^^^^^^^\n",
      "        File \"C:\\Users\\rnqhg\\AppData\\Local\\Temp\\pip-build-env-9pjzsexi\\overlay\\Lib\\site-packages\\setuptools\\msvc.py\", line 270, in _msvc14_get_vc_env\n",
      "          raise distutils.errors.DistutilsPlatformError(\n",
      "      distutils.errors.DistutilsPlatformError: Microsoft Visual C++ 14.0 or greater is required. Get it with \"Microsoft C++ Build Tools\": https://visualstudio.microsoft.com/visual-cpp-build-tools/\n",
      "      [end of output]\n",
      "  \n",
      "  note: This error originates from a subprocess, and is likely not a problem with pip.\n",
      "error: metadata-generation-failed\n",
      "\n",
      "× Encountered error while generating package metadata.\n",
      "╰─> See above for output.\n",
      "\n",
      "note: This is an issue with the package mentioned above, not pip.\n",
      "hint: See above for details.\n"
     ]
    }
   ],
   "source": [
    "from sklearn.datasets import load_boston\n",
    "\n",
    "# 경고 무시\n",
    "import warnings\n",
    "warnings.filterwarnings('ignore')\n",
    "\n",
    "dataset = load_boston()  # 데이터셋을 불러옴\n",
    "# load_boston()\n",
    "# 보스턴 집값 데이터를 딕셔너리 형태로 반환 \n",
    "print(dataset.keys())  # 데이터셋의 키(요소들의 이름)을 출력"
   ]
  },
  {
   "cell_type": "markdown",
   "metadata": {},
   "source": [
    "- data : 우리가 사용할 특징 값\n",
    "- target : 예측할 값. 정답이 있음\n",
    "- feature_names : 각 특징의 이름\n",
    "- DESCR : description의 약자로 데이터셋에 대한 전반적인 정보를 제공\n",
    "- filename : 데이터셋의 csv 파일이 존재하는 위치"
   ]
  },
  {
   "cell_type": "markdown",
   "metadata": {},
   "source": [
    "# 데이터의 구성요소 확인"
   ]
  },
  {
   "cell_type": "code",
   "execution_count": null,
   "metadata": {},
   "outputs": [],
   "source": [
    "import pandas as pd\n",
    "\n",
    "from sklearn.datasets import load_boston\n",
    "\n",
    "dataset = load_boston()\n",
    "dataFrame = pd.DataFrame(dataset[\"data\"])\n",
    "# 1. 데이터셋의 데이터 불러오기\n",
    "dataFrame.columns = dataset[\"feature_names\"]\n",
    "# 2. 특정의 이름 불러오기\n",
    "dataFrame[\"target\"] = dataset[\"target\"]\n",
    "# 3. 데이터 프레임에 정답 추가\n",
    "\n",
    "print(dataFrame.head())\n",
    "# 4. 데이터프레임을 요약해서 출력\n",
    "# head()\n",
    "# 데이터프레임에서 일부 데이터만 출력합니다. 기본값은 5로, 첫번째 ~ 다섯번째 데이터를 출력합니다"
   ]
  },
  {
   "cell_type": "markdown",
   "metadata": {},
   "source": [
    "# 선형회귀를 위한 MLP모델의 설계"
   ]
  },
  {
   "cell_type": "markdown",
   "metadata": {},
   "source": [
    "**선형회귀**\n",
    "- 데이터를 y와 x의 관계를 나타내는 직선으로 나타내는 방법\n",
    "- 회귀에 의해 얻은 결과를 실제 데이터와 비교해 오차를 줄여나가는 방식으로 학습\n",
    "- 오차의 제곱에 대한 평균을 취하는 평균 제곱 오차(MSE)"
   ]
  },
  {
   "cell_type": "code",
   "execution_count": null,
   "metadata": {},
   "outputs": [],
   "source": [
    "import torch\n",
    "import torch.nn as nn\n",
    "\n",
    "from torch.optim.adam import Adam\n",
    "\n",
    "# 1. 모델 정의\n",
    "# torch.nn.Sequential() 객체에 모듈을 집어넣어주면, 파이토치가 알아서 계산\n",
    "# 선형 회귀 모델이므로 파이토치의 nn.Linear 모듈을 이용\n",
    "# MLP층 : 뉴런이 다음 층의 모든 뉴런과 연결되어 있기 때문에 완전연결층이라고 부름\n",
    "\n",
    "# 선형회귀 MLP 모델의 순서\n",
    "# (1). 먼저 입력층에 입력데이터가 들어옵니다.\n",
    "# (2). 은닉층에 전달된 입력 데이터의 특징으로부터 정보를 추출합니다.\n",
    "# (3). 출력층의 예측값과 실제 정답을 비교해 손실을 꼐산합니다.\n",
    "# (4). 손실을 계산했으면 가중치를 수정하기 위해 오차를 역전파 합니다.\n",
    "\n",
    "model = nn.Sequential(\n",
    "    nn.Linear(13, 100),  # 13개의 특징을 받아 100개의 특징을 반환\n",
    "    nn.ReLU(),\n",
    "    nn.Linear(100, 1)\n",
    ")\n",
    "\n",
    "X = dataFrame.iloc[:, :13].values  # 2. 정답을 제외한 특징을 X에 입력\n",
    "Y = dataFrame[\"target\"].values  # 데이터 프레임의 target의 값을 추출\n",
    "# 데이터 13개를 X에 입력하고 싶기 때문에 지금은 문자열 13개를 넣어줘야 합니다.\n",
    "# 특징들의 위치로 값을 불러올 수 있으면 편하기 때문에 iloc를 이용해 이름이 아닌 위치로 호출할 수 있게 해준 뒤, 정답을 제외한 모든 데이터를 불러옵니다.\n",
    "\n",
    "batch_size = 100\n",
    "learning_rate = 0.001\n",
    "\n",
    "\n",
    "# 3. 가중치를 수정하기 위한 최적화 정의\n",
    "optim = Adam(model.parameters(), lr=learning_rate)\n",
    "# Adam은 가장 많이 쓰이는 최적화 기법입니다.\n",
    "# 최적화 기법은 역전파된 오차를 이용해 가중치를 수정하는 기법을 말합니다.\n",
    "# Adam()은 최적화가 필요한 모델의 가중치들과 학습률을 입력으로 받습니다.\n",
    "\n",
    "# 에포크 반복\n",
    "for epoch in range(200):\n",
    "\n",
    "    # 배치 반복\n",
    "    for i in range(len(X)//batch_size):\n",
    "        start = i*batch_size  # 4. 배치 크기에 맞게 인덱스를 지정\n",
    "        end = start + batch_size\n",
    "\n",
    "        # 파이토치 실수형 텐서로 변환\n",
    "        x = torch.FloatTensor(X[start:end])\n",
    "        y = torch.FloatTensor(Y[start:end])\n",
    "        # 전체 데이터 크기를 배치 크기로 나누고 나서 시작 지점과 끝나는 지점을 계산합니다.\n",
    "        # FloatTensor()를 사용해서 자료형을 실수형으로 변환해줍니다.\n",
    "        # FloatTensor(A) \n",
    "        # 설명 : 객체 A를 실숫값을 갖는 파이토치 텐서로 변환해줍니다.\n",
    "\n",
    "        optim.zero_grad()  # 5. 가중치의 기울기를 0으로 초기화\n",
    "        # 최적화를 실행하기 전 모든 기울기를 0으로 초기화 합니다.\n",
    "        # 이전 배치에서 계산된 기울기가 남아 있기 때문에 배치마다 초기화 해줍니다.\n",
    "        preds = model(x)  # 6. 모델의 예측값 계산\n",
    "        loss = nn.MSELoss()(preds, y)  # 7. MSE 손실 계산\n",
    "        # 실젯값과 예측값의 차이를 제곱하고, 모든 입력에 대해 평균을 내는 오차를 말합니다.\n",
    "        # loss.backward()는 오차를 역전파시킬 기울기를 저장합니다.\n",
    "        # optim.step()은 최적화 함수에 맞춰 오차 역전파를 수행합니다.\n",
    "        loss.backward()\n",
    "        optim.step()\n",
    "\n",
    "\n",
    "    if epoch % 20 == 0:\n",
    "        print(f\"epoch{epoch} loss:{loss.item()}\")\n",
    "\n",
    "\n",
    "# MSELoss()(preds, target) \n",
    "# 설명 : preds와 target에 대한 제곱 평균 오차를 구하는 함수입니다.\n",
    "# Adam(params, lr)\n",
    "# 설명 : 학습률 lr을 갖고, 모델의 가중치에 대해 Adam 최적화를 해주는 객체입니다."
   ]
  },
  {
   "cell_type": "markdown",
   "metadata": {},
   "source": [
    "# 모델 성능 평가"
   ]
  },
  {
   "cell_type": "code",
   "execution_count": null,
   "metadata": {},
   "outputs": [],
   "source": [
    "prediction = model(torch.FloatTensor(X[0, :13]))\n",
    "real = Y[0]\n",
    "print(f\"prediction:{prediction.item()} real:{real}\")"
   ]
  }
 ],
 "metadata": {
  "kernelspec": {
   "display_name": "base",
   "language": "python",
   "name": "python3"
  },
  "language_info": {
   "codemirror_mode": {
    "name": "ipython",
    "version": 3
   },
   "file_extension": ".py",
   "mimetype": "text/x-python",
   "name": "python",
   "nbconvert_exporter": "python",
   "pygments_lexer": "ipython3",
   "version": "3.11.5"
  }
 },
 "nbformat": 4,
 "nbformat_minor": 2
}
