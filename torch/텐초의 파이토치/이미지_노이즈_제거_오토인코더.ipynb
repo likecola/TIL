{
  "nbformat": 4,
  "nbformat_minor": 0,
  "metadata": {
    "colab": {
      "provenance": [],
      "gpuType": "T4"
    },
    "kernelspec": {
      "name": "python3",
      "display_name": "Python 3"
    },
    "language_info": {
      "name": "python"
    },
    "accelerator": "GPU"
  },
  "cells": [
    {
      "cell_type": "markdown",
      "source": [
        "# 가우스 잡음을 더하는 함수"
      ],
      "metadata": {
        "id": "yHj6yFTfst-6"
      }
    },
    {
      "cell_type": "code",
      "execution_count": 5,
      "metadata": {
        "id": "xJouxTqYsNIu"
      },
      "outputs": [],
      "source": [
        "import matplotlib.pyplot as plt\n",
        "import numpy as np\n",
        "import torch\n",
        "\n",
        "from torchvision.datasets.mnist import MNIST\n",
        "from torchvision.transforms import ToTensor\n",
        "\n",
        "\n",
        "def gaussian_noise(x, scale=0.8):  # ❶ 이미지에 가우스 잡음을 추가하는 함수\n",
        "   gaussian_data_x = x + np.random.normal(\n",
        "       loc=0,\n",
        "       scale=scale,\n",
        "       size=x.shape)  # 가우스 잡음을 더해줌\n",
        "\n",
        "   gaussian_data_x = np.clip(\n",
        "       gaussian_data_x, 0, 1)  # 이미지의 픽셀값을 0과 1 사이로 정규화\n",
        "\n",
        "   gaussian_data_x = torch.tensor(gaussian_data_x) # 파이토치 텐서로 변환\n",
        "   gaussian_data_x = gaussian_data_x.type(torch.FloatTensor)\n",
        "   return gaussian_data_x\n",
        "   # normal(loc,scale,size) : 정규분포를 따르는 행렬을 반환합니다.\n",
        "   # loc는 정규분포의 평균, scale은 표준편차, 반환현 행렬 크기는 size 입니다.\n",
        "   # clip(A, A_min, A_max) : 행렬 A를 A_min과 A_max 사이로 재조정합니다."
      ]
    },
    {
      "cell_type": "markdown",
      "source": [
        "# 원본과 잡음이 섞인 이미지 비교"
      ],
      "metadata": {
        "id": "gRyoIuFjtv_E"
      }
    },
    {
      "cell_type": "code",
      "source": [
        "# 학습 데이터 정의\n",
        "training_data = MNIST(\n",
        "    root=\"./\",\n",
        "    train=True,\n",
        "    download=True,\n",
        "    transform=ToTensor())\n",
        "\n",
        "# 평가 데이터 정의\n",
        "test_data = MNIST(\n",
        "    root=\"./\",\n",
        "    train=False,\n",
        "    download=True,\n",
        "    transform=ToTensor())\n",
        "\n",
        "# 첫 번째 원본 이미지\n",
        "img = training_data.data[0]\n",
        "# 잡음이 섞인 이미지로 변환\n",
        "gaussian = gaussian_noise(img)\n",
        "\n",
        "\n",
        "# 두 이미지 출력\n",
        "plt.subplot(1, 2, 1)\n",
        "plt.title(\"original\")\n",
        "plt.imshow(img)\n",
        "plt.subplot(1, 2, 2)\n",
        "plt.title(\"noisy\")\n",
        "plt.imshow(gaussian)\n",
        "plt.show()"
      ],
      "metadata": {
        "colab": {
          "base_uri": "https://localhost:8080/",
          "height": 364
        },
        "id": "hq-82a_xtsEE",
        "outputId": "76dc3276-020a-4191-e266-eb284ec9bb4b"
      },
      "execution_count": 6,
      "outputs": [
        {
          "output_type": "stream",
          "name": "stderr",
          "text": [
            "<ipython-input-5-0dc656c0a6cf>:18: UserWarning: To copy construct from a tensor, it is recommended to use sourceTensor.clone().detach() or sourceTensor.clone().detach().requires_grad_(True), rather than torch.tensor(sourceTensor).\n",
            "  gaussian_data_x = torch.tensor(gaussian_data_x) # 파이토치 텐서로 변환\n"
          ]
        },
        {
          "output_type": "display_data",
          "data": {
            "text/plain": [
              "<Figure size 640x480 with 2 Axes>"
            ],
            "image/png": "[encoded data removed]"
          },
          "metadata": {}
        }
      ]
    },
    {
      "cell_type": "markdown",
      "source": [
        "# 학습용 데이터셋"
      ],
      "metadata": {
        "id": "s1-7G9BOuCM4"
      }
    },
    {
      "cell_type": "code",
      "source": [
        "from torch.utils.data.dataset import Dataset\n",
        "\n",
        "class Denoising(Dataset):\n",
        "   def __init__(self):\n",
        "       # 원본 이미지를 담고있는 MNIST 데이터\n",
        "       self.mnist = MNIST(\n",
        "           root=\"./\",\n",
        "           train=True,\n",
        "           download=True,\n",
        "           transform=ToTensor())\n",
        "       self.data = []\n",
        "       # 잡음이 낀 데이터를 담는 리스트\n",
        "\n",
        "       # 1. 잡음 입히기\n",
        "       for i in range(len(self.mnist)):\n",
        "           noisy_input = gaussian_noise(self.mnist.data[i])\n",
        "           input_tensor = torch.tensor(noisy_input)\n",
        "           self.data.append(torch.unsqueeze(input_tensor, dim=0))\n",
        "   def __len__(self):\n",
        "       return len(self.data)\n",
        "   def __getitem__(self, i):\n",
        "       data = self.data[i]\n",
        "\n",
        "       # 원본 이미지도 0과 1 사이로 값을 맞춰줌\n",
        "       # 최대-최소 정규화 적용\n",
        "       label = self.mnist.data[i]/255\n",
        "\n",
        "       return data, label"
      ],
      "metadata": {
        "id": "O082ZkvXtxXo"
      },
      "execution_count": 8,
      "outputs": []
    },
    {
      "cell_type": "markdown",
      "source": [
        "# 합성곱 기본 블록"
      ],
      "metadata": {
        "id": "cB7VioKUvQCZ"
      }
    },
    {
      "cell_type": "code",
      "source": [
        "import torch.nn as nn\n",
        "\n",
        "\n",
        "class BasicBlock(nn.Module):  # 4장에서 사용한 CNN 블록을 이용\n",
        "   def __init__(self, in_channels, out_channels, hidden_dim):\n",
        "       super(BasicBlock, self).__init__()\n",
        "\n",
        "       self.conv1 = nn.Conv2d(\n",
        "           in_channels,\n",
        "           hidden_dim,\n",
        "           kernel_size=3,\n",
        "           padding=1)\n",
        "       self.conv2 = nn.Conv2d(\n",
        "           hidden_dim,\n",
        "           out_channels,\n",
        "           kernel_size=3,\n",
        "           padding=1)\n",
        "       self.relu = nn.ReLU()\n",
        "\n",
        "   def forward(self, x):\n",
        "       x = self.conv1(x)\n",
        "       x = self.relu(x)\n",
        "       x = self.conv2(x)\n",
        "       x = self.relu(x)\n",
        "\n",
        "       return x"
      ],
      "metadata": {
        "id": "ECQXbkffvQe6"
      },
      "execution_count": 9,
      "outputs": []
    },
    {
      "cell_type": "markdown",
      "source": [
        "# 인코더 모델"
      ],
      "metadata": {
        "id": "rqkgMnO3vggr"
      }
    },
    {
      "cell_type": "code",
      "source": [
        "class Encoder(nn.Module):\n",
        "   def __init__(self):\n",
        "       super(Encoder, self).__init__()\n",
        "\n",
        "       # ❶ 입력 채널이 1인 것에 주의\n",
        "       self.conv1 = BasicBlock(in_channels=1, out_channels=16, hidden_dim=16)\n",
        "       self.conv2 = BasicBlock(in_channels=16, out_channels=8, hidden_dim=8)\n",
        "\n",
        "       self.pool = nn.AvgPool2d(kernel_size=2, stride=2)\n",
        "\n",
        "   def forward(self, x):  # CNN과 동일하게 합성곱층을 거치고 풀링을 해줌\n",
        "       x = self.conv1(x)\n",
        "       x = self.pool(x)\n",
        "       x = self.conv2(x)\n",
        "       x = self.pool(x)\n",
        "\n",
        "       return x"
      ],
      "metadata": {
        "id": "-dfdxOQcvfqk"
      },
      "execution_count": 10,
      "outputs": []
    },
    {
      "cell_type": "markdown",
      "source": [
        "# 디코더 모델"
      ],
      "metadata": {
        "id": "P06vj29ivtIh"
      }
    },
    {
      "cell_type": "code",
      "source": [
        "class Decoder(nn.Module):\n",
        "   def __init__(self):\n",
        "       super(Decoder, self).__init__()\n",
        "       self.conv1 = BasicBlock(in_channels=8, out_channels=8, hidden_dim=8)\n",
        "       self.conv2 = BasicBlock(in_channels=8, out_channels=16, hidden_dim=16)\n",
        "\n",
        "       # ❶출력층은 BasicBlock이 아닌 합성곱층\n",
        "       self.conv3 = nn.Conv2d(in_channels=16, out_channels=1,\n",
        "                              kernel_size=3, padding=1)\n",
        "\n",
        "       # 업샘플링층\n",
        "       self.upsample1 = nn.ConvTranspose2d(8, 8, kernel_size=2, stride=2)\n",
        "       self.upsample2 = nn.ConvTranspose2d(16, 16, kernel_size=2, stride=2)\n",
        "\n",
        "\n",
        "   # 인코더의 풀링 대신 입력 크기를 키우는 업샘플링 이용\n",
        "   def forward(self, x):\n",
        "       x = self.conv1(x)\n",
        "       x = self.upsample1(x)\n",
        "       x = self.conv2(x)\n",
        "       x = self.upsample2(x)\n",
        "       x = self.conv3(x)\n",
        "\n",
        "       return x"
      ],
      "metadata": {
        "id": "7WBW9Z6AvsV8"
      },
      "execution_count": 11,
      "outputs": []
    },
    {
      "cell_type": "markdown",
      "source": [
        "# CAE모델 정의하기"
      ],
      "metadata": {
        "id": "yU_dsKWAv1Nk"
      }
    },
    {
      "cell_type": "code",
      "source": [
        "class CAE(nn.Module):\n",
        "   def __init__(self):\n",
        "       super(CAE, self).__init__()\n",
        "\n",
        "       self.enc = Encoder()\n",
        "       # 인코더 층의 정의\n",
        "       self.dec = Decoder()\n",
        "       # 디코더 층의 정의\n",
        "\n",
        "   def forward(self, x):  # 인코더, 디코더를 거친 후, 채널 차원을 삭제\n",
        "       x = self.enc(x)    # 인코더로 특징 추출\n",
        "       x = self.dec(x)    # 디코더로 이미지 복원\n",
        "       x = torch.squeeze(x) # 채널 차원의 삭제\n",
        "\n",
        "\n",
        "       return x"
      ],
      "metadata": {
        "id": "wXipg2A1vx_Q"
      },
      "execution_count": 12,
      "outputs": []
    },
    {
      "cell_type": "markdown",
      "source": [
        "# 모델 학습하기"
      ],
      "metadata": {
        "id": "M7NeI2PiwP_V"
      }
    },
    {
      "cell_type": "code",
      "source": [
        "import tqdm\n",
        "\n",
        "from torch.utils.data.dataloader import DataLoader\n",
        "from torch.optim.adam import Adam\n",
        "\n",
        "device = \"cuda\" if torch.cuda.is_available() else \"cpu\"\n",
        "\n",
        "trainset = Denoising()  # 학습에 이용할 데이터셋\n",
        "train_loader = DataLoader(trainset, batch_size=32)  # 한 번에 이미지 32장 사용\n",
        "\n",
        "model = CAE().to(device)  # 디노이징에 사용할 오토인코더 모델\n",
        "\n",
        "\n",
        "# 학습률과 최적화를 정의\n",
        "lr = 0.001\n",
        "optim = Adam(params=model.parameters(), lr=lr)\n",
        "\n",
        "for epoch in range(20):\n",
        "   iterator = tqdm.tqdm(train_loader)\n",
        "\n",
        "   for data, label in iterator:\n",
        "       optim.zero_grad()\n",
        "       pred = model(data.to(device))\n",
        "\n",
        "       loss = nn.MSELoss()(torch.squeeze(pred), label.to(device))  # 손실의 계산\n",
        "       loss.backward()  # 오차 역전파\n",
        "       optim.step()  # 최적화\n",
        "       iterator.set_description(f\"epoch{epoch+1} loss:{loss.item()}\")\n",
        "\n",
        "torch.save(model.state_dict(), \"./CAE.pth\")  # 모델의 가중치 저장"
      ],
      "metadata": {
        "colab": {
          "base_uri": "https://localhost:8080/"
        },
        "id": "CwJmW20XwMZt",
        "outputId": "277721d6-63e9-4484-a903-b611ea7cdffe"
      },
      "execution_count": 13,
      "outputs": [
        {
          "output_type": "stream",
          "name": "stderr",
          "text": [
            "<ipython-input-5-0dc656c0a6cf>:18: UserWarning: To copy construct from a tensor, it is recommended to use sourceTensor.clone().detach() or sourceTensor.clone().detach().requires_grad_(True), rather than torch.tensor(sourceTensor).\n",
            "  gaussian_data_x = torch.tensor(gaussian_data_x) # 파이토치 텐서로 변환\n",
            "<ipython-input-8-575b0a59ad0f>:17: UserWarning: To copy construct from a tensor, it is recommended to use sourceTensor.clone().detach() or sourceTensor.clone().detach().requires_grad_(True), rather than torch.tensor(sourceTensor).\n",
            "  input_tensor = torch.tensor(noisy_input)\n",
            "epoch1 loss:0.01238239649683237: 100%|██████████| 1875/1875 [00:17<00:00, 105.34it/s]\n",
            "epoch2 loss:0.010797498747706413: 100%|██████████| 1875/1875 [00:15<00:00, 118.47it/s]\n",
            "epoch3 loss:0.010134093463420868: 100%|██████████| 1875/1875 [00:15<00:00, 124.92it/s]\n",
            "epoch4 loss:0.01002410426735878: 100%|██████████| 1875/1875 [00:14<00:00, 127.45it/s]\n",
            "epoch5 loss:0.010390094481408596: 100%|██████████| 1875/1875 [00:15<00:00, 124.49it/s]\n",
            "epoch6 loss:0.009905832819640636: 100%|██████████| 1875/1875 [00:15<00:00, 117.22it/s]\n",
            "epoch7 loss:0.012356430292129517: 100%|██████████| 1875/1875 [00:14<00:00, 128.61it/s]\n",
            "epoch8 loss:0.008535739965736866: 100%|██████████| 1875/1875 [00:14<00:00, 129.86it/s]\n",
            "epoch9 loss:0.00823675375431776: 100%|██████████| 1875/1875 [00:14<00:00, 129.56it/s]\n",
            "epoch10 loss:0.007974905893206596: 100%|██████████| 1875/1875 [00:14<00:00, 129.93it/s]\n",
            "epoch11 loss:0.008034270256757736: 100%|██████████| 1875/1875 [00:14<00:00, 129.68it/s]\n",
            "epoch12 loss:0.007988275028765202: 100%|██████████| 1875/1875 [00:14<00:00, 128.47it/s]\n",
            "epoch13 loss:0.00807670596987009: 100%|██████████| 1875/1875 [00:14<00:00, 127.54it/s]\n",
            "epoch14 loss:0.00805105734616518: 100%|██████████| 1875/1875 [00:14<00:00, 127.04it/s]\n",
            "epoch15 loss:0.008070279844105244: 100%|██████████| 1875/1875 [00:14<00:00, 127.20it/s]\n",
            "epoch16 loss:0.008131995797157288: 100%|██████████| 1875/1875 [00:14<00:00, 129.27it/s]\n",
            "epoch17 loss:0.008019053377211094: 100%|██████████| 1875/1875 [00:14<00:00, 129.45it/s]\n",
            "epoch18 loss:0.007852244190871716: 100%|██████████| 1875/1875 [00:14<00:00, 129.38it/s]\n",
            "epoch19 loss:0.007854551076889038: 100%|██████████| 1875/1875 [00:14<00:00, 128.97it/s]\n",
            "epoch20 loss:0.007740976754575968: 100%|██████████| 1875/1875 [00:14<00:00, 127.43it/s]\n"
          ]
        }
      ]
    },
    {
      "cell_type": "markdown",
      "source": [
        "# 모델 성능 평가"
      ],
      "metadata": {
        "id": "QIvBL5QLwVYE"
      }
    },
    {
      "cell_type": "code",
      "source": [
        "model.cpu()  # ❶ 모델의 출력값을 cpu로 이동\n",
        "\n",
        "with torch.no_grad():\n",
        "   # 학습이 완료된 가중치를 불러오기\n",
        "   model.load_state_dict(torch.load(\"./CAE.pth\", map_location=device))\n",
        "\n",
        "   img = test_data.data[0]         # 시각화에 사용할 이미지 한 장을 불러오기\n",
        "   gaussian = gaussian_noise(img)  # 이미지에 가우스 잡음을 입히기\n",
        "   input = torch.unsqueeze(gaussian, dim=0) # 모델의 입력 모양에 맞춰 채널 차원 추가\n",
        "   input.type(torch.FloatTensor)  # ❷ 가중치와 입력의 데이터형을 맞춤\n",
        "   input.to(device)\n",
        "   input = torch.unsqueeze(input, dim=0)  # 배치 크기1을 위한 배치 차원을 추가\n",
        "\n",
        "   plt.subplot(1, 3, 1)\n",
        "   plt.imshow(torch.squeeze(gaussian))\n",
        "   plt.subplot(1, 3, 2)\n",
        "   plt.imshow(torch.squeeze(model(input)))\n",
        "   plt.subplot(1, 3, 3)\n",
        "   plt.imshow(torch.squeeze(img))\n",
        "   plt.show()"
      ],
      "metadata": {
        "colab": {
          "base_uri": "https://localhost:8080/",
          "height": 265
        },
        "id": "34Av0KXOwT-c",
        "outputId": "7e3aa2bd-eaf1-4d3a-86da-4f43c7e103b2"
      },
      "execution_count": 14,
      "outputs": [
        {
          "output_type": "stream",
          "name": "stderr",
          "text": [
            "<ipython-input-5-0dc656c0a6cf>:18: UserWarning: To copy construct from a tensor, it is recommended to use sourceTensor.clone().detach() or sourceTensor.clone().detach().requires_grad_(True), rather than torch.tensor(sourceTensor).\n",
            "  gaussian_data_x = torch.tensor(gaussian_data_x) # 파이토치 텐서로 변환\n"
          ]
        },
        {
          "output_type": "display_data",
          "data": {
            "text/plain": [
              "<Figure size 640x480 with 3 Axes>"
            ],
            "image/png": "[encoded data removed]"
          },
          "metadata": {}
        }
      ]
    }
  ]
}