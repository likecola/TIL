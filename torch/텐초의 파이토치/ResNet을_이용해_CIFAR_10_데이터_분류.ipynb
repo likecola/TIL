{
  "nbformat": 4,
  "nbformat_minor": 0,
  "metadata": {
    "colab": {
      "provenance": []
    },
    "kernelspec": {
      "name": "python3",
      "display_name": "Python 3"
    },
    "language_info": {
      "name": "python"
    }
  },
  "cells": [
    {
      "cell_type": "markdown",
      "source": [
        "# ResNet의 기본 블록"
      ],
      "metadata": {
        "id": "NOOtDkeBwckT"
      }
    },
    {
      "cell_type": "code",
      "execution_count": null,
      "metadata": {
        "id": "Zax29QkCwKrs"
      },
      "outputs": [],
      "source": []
    }
  ]
}