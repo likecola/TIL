{
 "cells": [
  {
   "cell_type": "markdown",
   "metadata": {},
   "source": [
    "# 모델 매개변수 최적화하기[원문 보기]\n",
    "이제 모델과 데이터가 준비되었으니, 데이터에 매개변수를 최적화하여 모델을 학습하고, 검증하고, 테스트할 차례입니다. 모델을 학습하는 과정은 반복적인 과정을 거칩니다; 각 반복 단계에서 모델은 출력을 추측하고, 추측과 정답 사이의 오류(손실(loss))를 계산하고, (이전 장에서 본 것처럼) 매개변수에 대한 오류의 도함수(derivative)를 수집한 뒤, 경사하강법을 사용하여 이 파라미터들을 최적화(optimize)합니다. 이 과정에 대한 자세한 설명은 3Blue1Brown의 역전파 영상을 참고하세요."
   ]
  },
  {
   "cell_type": "markdown",
   "metadata": {},
   "source": [
    "## 기본(Pre-requisite) 코드\n",
    "이전 장인 Dataset과 DataLoader와 신경망 모델 구성하기에서 코드를 가져왔습니다."
   ]
  },
  {
   "cell_type": "code",
   "execution_count": 1,
   "metadata": {},
   "outputs": [
    {
     "ename": "ModuleNotFoundError",
     "evalue": "No module named 'torchvision'",
     "output_type": "error",
     "traceback": [
      "\u001b[1;31m---------------------------------------------------------------------------\u001b[0m",
      "\u001b[1;31mModuleNotFoundError\u001b[0m                       Traceback (most recent call last)",
      "\u001b[1;32mc:\\Users\\user\\Desktop\\TIL\\torch\\study\\torch\\pytorch_tutorials\\파이토치(PyTorch)_시작하기\\모델_매개변수_최적화하기.ipynb 셀 3\u001b[0m line \u001b[0;36m4\n\u001b[0;32m      <a href='vscode-notebook-cell:/c%3A/Users/user/Desktop/TIL/torch/study/torch/pytorch_tutorials/%ED%8C%8C%EC%9D%B4%ED%86%A0%EC%B9%98%28PyTorch%29_%EC%8B%9C%EC%9E%91%ED%95%98%EA%B8%B0/%EB%AA%A8%EB%8D%B8_%EB%A7%A4%EA%B0%9C%EB%B3%80%EC%88%98_%EC%B5%9C%EC%A0%81%ED%99%94%ED%95%98%EA%B8%B0.ipynb#W2sZmlsZQ%3D%3D?line=1'>2</a>\u001b[0m \u001b[39mfrom\u001b[39;00m \u001b[39mtorch\u001b[39;00m \u001b[39mimport\u001b[39;00m nn\n\u001b[0;32m      <a href='vscode-notebook-cell:/c%3A/Users/user/Desktop/TIL/torch/study/torch/pytorch_tutorials/%ED%8C%8C%EC%9D%B4%ED%86%A0%EC%B9%98%28PyTorch%29_%EC%8B%9C%EC%9E%91%ED%95%98%EA%B8%B0/%EB%AA%A8%EB%8D%B8_%EB%A7%A4%EA%B0%9C%EB%B3%80%EC%88%98_%EC%B5%9C%EC%A0%81%ED%99%94%ED%95%98%EA%B8%B0.ipynb#W2sZmlsZQ%3D%3D?line=2'>3</a>\u001b[0m \u001b[39mfrom\u001b[39;00m \u001b[39mtorch\u001b[39;00m\u001b[39m.\u001b[39;00m\u001b[39mutils\u001b[39;00m\u001b[39m.\u001b[39;00m\u001b[39mdata\u001b[39;00m \u001b[39mimport\u001b[39;00m DataLoader\n\u001b[1;32m----> <a href='vscode-notebook-cell:/c%3A/Users/user/Desktop/TIL/torch/study/torch/pytorch_tutorials/%ED%8C%8C%EC%9D%B4%ED%86%A0%EC%B9%98%28PyTorch%29_%EC%8B%9C%EC%9E%91%ED%95%98%EA%B8%B0/%EB%AA%A8%EB%8D%B8_%EB%A7%A4%EA%B0%9C%EB%B3%80%EC%88%98_%EC%B5%9C%EC%A0%81%ED%99%94%ED%95%98%EA%B8%B0.ipynb#W2sZmlsZQ%3D%3D?line=3'>4</a>\u001b[0m \u001b[39mfrom\u001b[39;00m \u001b[39mtorchvision\u001b[39;00m \u001b[39mimport\u001b[39;00m datasets\n\u001b[0;32m      <a href='vscode-notebook-cell:/c%3A/Users/user/Desktop/TIL/torch/study/torch/pytorch_tutorials/%ED%8C%8C%EC%9D%B4%ED%86%A0%EC%B9%98%28PyTorch%29_%EC%8B%9C%EC%9E%91%ED%95%98%EA%B8%B0/%EB%AA%A8%EB%8D%B8_%EB%A7%A4%EA%B0%9C%EB%B3%80%EC%88%98_%EC%B5%9C%EC%A0%81%ED%99%94%ED%95%98%EA%B8%B0.ipynb#W2sZmlsZQ%3D%3D?line=4'>5</a>\u001b[0m \u001b[39mfrom\u001b[39;00m \u001b[39mtorchvision\u001b[39;00m\u001b[39m.\u001b[39;00m\u001b[39mtransforms\u001b[39;00m \u001b[39mimport\u001b[39;00m ToTensor\n\u001b[0;32m      <a href='vscode-notebook-cell:/c%3A/Users/user/Desktop/TIL/torch/study/torch/pytorch_tutorials/%ED%8C%8C%EC%9D%B4%ED%86%A0%EC%B9%98%28PyTorch%29_%EC%8B%9C%EC%9E%91%ED%95%98%EA%B8%B0/%EB%AA%A8%EB%8D%B8_%EB%A7%A4%EA%B0%9C%EB%B3%80%EC%88%98_%EC%B5%9C%EC%A0%81%ED%99%94%ED%95%98%EA%B8%B0.ipynb#W2sZmlsZQ%3D%3D?line=6'>7</a>\u001b[0m training_data \u001b[39m=\u001b[39m datasets\u001b[39m.\u001b[39mFashionMNIST(\n\u001b[0;32m      <a href='vscode-notebook-cell:/c%3A/Users/user/Desktop/TIL/torch/study/torch/pytorch_tutorials/%ED%8C%8C%EC%9D%B4%ED%86%A0%EC%B9%98%28PyTorch%29_%EC%8B%9C%EC%9E%91%ED%95%98%EA%B8%B0/%EB%AA%A8%EB%8D%B8_%EB%A7%A4%EA%B0%9C%EB%B3%80%EC%88%98_%EC%B5%9C%EC%A0%81%ED%99%94%ED%95%98%EA%B8%B0.ipynb#W2sZmlsZQ%3D%3D?line=7'>8</a>\u001b[0m     root\u001b[39m=\u001b[39m\u001b[39m\"\u001b[39m\u001b[39mdata\u001b[39m\u001b[39m\"\u001b[39m,\n\u001b[0;32m      <a href='vscode-notebook-cell:/c%3A/Users/user/Desktop/TIL/torch/study/torch/pytorch_tutorials/%ED%8C%8C%EC%9D%B4%ED%86%A0%EC%B9%98%28PyTorch%29_%EC%8B%9C%EC%9E%91%ED%95%98%EA%B8%B0/%EB%AA%A8%EB%8D%B8_%EB%A7%A4%EA%B0%9C%EB%B3%80%EC%88%98_%EC%B5%9C%EC%A0%81%ED%99%94%ED%95%98%EA%B8%B0.ipynb#W2sZmlsZQ%3D%3D?line=8'>9</a>\u001b[0m     train\u001b[39m=\u001b[39m\u001b[39mTrue\u001b[39;00m,\n\u001b[0;32m     <a href='vscode-notebook-cell:/c%3A/Users/user/Desktop/TIL/torch/study/torch/pytorch_tutorials/%ED%8C%8C%EC%9D%B4%ED%86%A0%EC%B9%98%28PyTorch%29_%EC%8B%9C%EC%9E%91%ED%95%98%EA%B8%B0/%EB%AA%A8%EB%8D%B8_%EB%A7%A4%EA%B0%9C%EB%B3%80%EC%88%98_%EC%B5%9C%EC%A0%81%ED%99%94%ED%95%98%EA%B8%B0.ipynb#W2sZmlsZQ%3D%3D?line=9'>10</a>\u001b[0m     download\u001b[39m=\u001b[39m\u001b[39mTrue\u001b[39;00m,\n\u001b[0;32m     <a href='vscode-notebook-cell:/c%3A/Users/user/Desktop/TIL/torch/study/torch/pytorch_tutorials/%ED%8C%8C%EC%9D%B4%ED%86%A0%EC%B9%98%28PyTorch%29_%EC%8B%9C%EC%9E%91%ED%95%98%EA%B8%B0/%EB%AA%A8%EB%8D%B8_%EB%A7%A4%EA%B0%9C%EB%B3%80%EC%88%98_%EC%B5%9C%EC%A0%81%ED%99%94%ED%95%98%EA%B8%B0.ipynb#W2sZmlsZQ%3D%3D?line=10'>11</a>\u001b[0m     transform\u001b[39m=\u001b[39mToTensor()\n\u001b[0;32m     <a href='vscode-notebook-cell:/c%3A/Users/user/Desktop/TIL/torch/study/torch/pytorch_tutorials/%ED%8C%8C%EC%9D%B4%ED%86%A0%EC%B9%98%28PyTorch%29_%EC%8B%9C%EC%9E%91%ED%95%98%EA%B8%B0/%EB%AA%A8%EB%8D%B8_%EB%A7%A4%EA%B0%9C%EB%B3%80%EC%88%98_%EC%B5%9C%EC%A0%81%ED%99%94%ED%95%98%EA%B8%B0.ipynb#W2sZmlsZQ%3D%3D?line=11'>12</a>\u001b[0m )\n",
      "\u001b[1;31mModuleNotFoundError\u001b[0m: No module named 'torchvision'"
     ]
    }
   ],
   "source": [
    "import torch\n",
    "from torch import nn\n",
    "from torch.utils.data import DataLoader\n",
    "from torchvision import datasets\n",
    "from torchvision.transforms import ToTensor\n",
    "\n",
    "training_data = datasets.FashionMNIST(\n",
    "    root=\"data\",\n",
    "    train=True,\n",
    "    download=True,\n",
    "    transform=ToTensor()\n",
    ")\n",
    "\n",
    "test_data = datasets.FashionMNIST(\n",
    "    root=\"data\",\n",
    "    train=False,\n",
    "    download=True,\n",
    "    transform=ToTensor()\n",
    ")\n",
    "\n",
    "train_dataloader = DataLoader(training_data, batch_size=64)\n",
    "test_dataloader = DataLoader(test_data, batch_size=64)\n",
    "\n",
    "class NeuralNetwork(nn.Module):\n",
    "    def __init__(self):\n",
    "        super(NeuralNetwork, self).__init__()\n",
    "        self.flatten = nn.Flatten()\n",
    "        self.linear_relu_stack = nn.Sequential(\n",
    "            nn.Linear(28*28, 512),\n",
    "            nn.ReLU(),\n",
    "            nn.Linear(512, 512),\n",
    "            nn.ReLU(),\n",
    "            nn.Linear(512, 10),\n",
    "        )\n",
    "\n",
    "    def forward(self, x):\n",
    "        x = self.flatten(x)\n",
    "        logits = self.linear_relu_stack(x)\n",
    "        return logits\n",
    "\n",
    "model = NeuralNetwork()"
   ]
  },
  {
   "cell_type": "code",
   "execution_count": null,
   "metadata": {},
   "outputs": [],
   "source": []
  }
 ],
 "metadata": {
  "kernelspec": {
   "display_name": "python3_10_11",
   "language": "python",
   "name": "python3"
  },
  "language_info": {
   "codemirror_mode": {
    "name": "ipython",
    "version": 3
   },
   "file_extension": ".py",
   "mimetype": "text/x-python",
   "name": "python",
   "nbconvert_exporter": "python",
   "pygments_lexer": "ipython3",
   "version": "3.10.13"
  }
 },
 "nbformat": 4,
 "nbformat_minor": 2
}
