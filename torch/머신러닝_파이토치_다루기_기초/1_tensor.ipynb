{
 "cells": [
  {
   "cell_type": "markdown",
   "metadata": {},
   "source": [
    "# 1. tensor\n",
    "\n",
    "파이토치(PyTorch)에서 텐서(Tensor)는 다차원 배열을 나타내는 자료형입니다. 넘파이(Numpy)의 ndarray와 유사한 API를 제공하며, GPU를 이용한 연산도 지원합니다. 텐서를 사용하여 머신러닝 모델에서 데이터를 표현하고 연산을 수행합니다.\n",
    "\n",
    "tensor 메서드는 파이썬 리스트나 넘파이 배열을 PyTorch 텐서로 변환해주는 역할을 합니다. 이 메서드는 다음과 같이 사용됩니다."
   ]
  },
  {
   "cell_type": "code",
   "execution_count": 4,
   "metadata": {},
   "outputs": [
    {
     "data": {
      "text/plain": [
       "tensor([[1, 2, 3],\n",
       "        [4, 5, 6]])"
      ]
     },
     "execution_count": 4,
     "metadata": {},
     "output_type": "execute_result"
    }
   ],
   "source": [
    "import torch \n",
    "# data = [[1,2,3], [4,5,6]]\n",
    "\n",
    "torch.tensor(data, dtype=None, device=None, requires_grad=False)\n"
   ]
  },
  {
   "cell_type": "markdown",
   "metadata": {},
   "source": [
    "- data: 텐서로 변환하고자 하는 데이터입니다. 파이썬 리스트나 넘파이 배열 등이 사용될 수 있습니다.\n",
    "- dtype (optional): 텐서의 데이터 타입을 지정합니다. 기본값은 None으로, 자동으로 데이터 타입을 인식합니다.\n",
    "- device (optional): 텐서가 사용될 디바이스를 지정합니다. 기본값은 None으로, CPU 상에서 계산됩니다.\n",
    "- requires_grad (optional): 해당 텐서가 그래디언트를 계산할지 여부를 지정합니다. 기본값은 False입니다.\n",
    "\n",
    "예를 들어, 다음과 같이 파이썬 리스트를 텐서로 변환할 수 있습니다"
   ]
  },
  {
   "cell_type": "code",
   "execution_count": 5,
   "metadata": {},
   "outputs": [
    {
     "name": "stdout",
     "output_type": "stream",
     "text": [
      "tensor([[1., 2., 3.],\n",
      "        [4., 5., 6.]])\n"
     ]
    },
    {
     "ename": "NameError",
     "evalue": "name 'tensor' is not defined",
     "output_type": "error",
     "traceback": [
      "\u001b[1;31m---------------------------------------------------------------------------\u001b[0m",
      "\u001b[1;31mNameError\u001b[0m                                 Traceback (most recent call last)",
      "Cell \u001b[1;32mIn[5], line 6\u001b[0m\n\u001b[0;32m      4\u001b[0m x \u001b[38;5;241m=\u001b[39m torch\u001b[38;5;241m.\u001b[39mtensor(data, dtype\u001b[38;5;241m=\u001b[39mtorch\u001b[38;5;241m.\u001b[39mfloat32)\n\u001b[0;32m      5\u001b[0m \u001b[38;5;28mprint\u001b[39m(x)\n\u001b[1;32m----> 6\u001b[0m tensor([[\u001b[38;5;241m1.\u001b[39m, \u001b[38;5;241m2.\u001b[39m, \u001b[38;5;241m3.\u001b[39m],\n\u001b[0;32m      7\u001b[0m         [\u001b[38;5;241m4.\u001b[39m, \u001b[38;5;241m5.\u001b[39m, \u001b[38;5;241m6.\u001b[39m]])\n",
      "\u001b[1;31mNameError\u001b[0m: name 'tensor' is not defined"
     ]
    }
   ],
   "source": [
    "import torch\n",
    "\n",
    "data = [[1,2,3], [4,5,6]]\n",
    "x = torch.tensor(data, dtype=torch.float32)\n",
    "print(x)\n",
    "tensor([[1., 2., 3.],\n",
    "        [4., 5., 6.]])"
   ]
  }
 ],
 "metadata": {
  "kernelspec": {
   "display_name": "base",
   "language": "python",
   "name": "python3"
  },
  "language_info": {
   "codemirror_mode": {
    "name": "ipython",
    "version": 3
   },
   "file_extension": ".py",
   "mimetype": "text/x-python",
   "name": "python",
   "nbconvert_exporter": "python",
   "pygments_lexer": "ipython3",
   "version": "3.11.5"
  }
 },
 "nbformat": 4,
 "nbformat_minor": 2
}
