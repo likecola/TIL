{
 "cells": [
  {
   "cell_type": "markdown",
   "metadata": {},
   "source": [
    "# PYTORCH로 딥러닝하기: 60분만에 끝장내기[원문 보기]\n",
    "Author: Soumith Chintala\n",
    "번역: 박정환\n",
    "\n",
    "Follow along with the video below or on [youtube](https://www.youtube.com/watch?v=u7x8RXwLKcA&t=1s).\n",
    "   <div style=\"margin-top:10px; margin-bottom:10px;\">\n",
    "     <iframe width=\"560\" height=\"315\" src=\"https://www.youtube.com/watch?v=u7x8RXwLKcA&t=1s\" frameborder=\"0\" allow=\"accelerometer; encrypted-media; gyroscope; picture-in-picture\" allowfullscreen></iframe>\n",
    "   </div>\n",
    "\n",
    "파이토치(PyTorch)가 무엇인가요?\n",
    "PyTorch는 Python 기반의 과학 연산 패키지로 다음 두 가지 목적으로 제공됩니다:\n",
    "\n",
    "GPU 및 다른 가속기의 성능을 사용하기 위한 NumPy의 대체제 제공\n",
    "\n",
    "신경망 구현에 유용한 자동 미분(automatic differntiation) 라이브러리 제공\n",
    "\n",
    "이 튜토리얼의 목표\n",
    "높은 수준에서 PyTorch의 Tensor library와 신경망(Neural Network)를 이해합니다.\n",
    "\n",
    "이미지를 분류하는 작은 신경망을 학습시킵니다."
   ]
  }
 ],
 "metadata": {
  "language_info": {
   "name": "python"
  }
 },
 "nbformat": 4,
 "nbformat_minor": 2
}
