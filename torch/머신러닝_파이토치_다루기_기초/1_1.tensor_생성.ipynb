{
 "cells": [
  {
   "cell_type": "markdown",
   "metadata": {},
   "source": [
    "### 1) 생성\n",
    "다음은 파이토치에서 텐서를 생성하고 연산하는 예제입니다."
   ]
  },
  {
   "cell_type": "code",
   "execution_count": 1,
   "metadata": {},
   "outputs": [
    {
     "name": "stdout",
     "output_type": "stream",
     "text": [
      "tensor([1, 2, 3])\n"
     ]
    }
   ],
   "source": [
    "import torch\n",
    "\n",
    "# 1차원 텐서 생성\n",
    "x = torch.tensor([1, 2, 3])\n",
    "print(x)"
   ]
  },
  {
   "cell_type": "code",
   "execution_count": 3,
   "metadata": {},
   "outputs": [
    {
     "name": "stdout",
     "output_type": "stream",
     "text": [
      "tensor([[1, 2, 3],\n",
      "        [4, 5, 6]])\n"
     ]
    }
   ],
   "source": [
    "# 2차원 텐서 생성\n",
    "y = torch.tensor([[1, 2, 3], [4, 5, 6]])\n",
    "print(y)"
   ]
  },
  {
   "cell_type": "code",
   "execution_count": 5,
   "metadata": {},
   "outputs": [
    {
     "name": "stdout",
     "output_type": "stream",
     "text": [
      "tensor([[[0., 0., 0., 0.],\n",
      "         [0., 0., 0., 0.],\n",
      "         [0., 0., 0., 0.]],\n",
      "\n",
      "        [[0., 0., 0., 0.],\n",
      "         [0., 0., 0., 0.],\n",
      "         [0., 0., 0., 0.]]])\n"
     ]
    }
   ],
   "source": [
    "# 모든 원소가 0인 3차원 텐서 생성\n",
    "z = torch.zeros((2, 3, 4))\n",
    "print(z)"
   ]
  },
  {
   "cell_type": "code",
   "execution_count": 7,
   "metadata": {},
   "outputs": [
    {
     "name": "stdout",
     "output_type": "stream",
     "text": [
      "tensor([[[[1., 1.],\n",
      "          [1., 1.]],\n",
      "\n",
      "         [[1., 1.],\n",
      "          [1., 1.]]],\n",
      "\n",
      "\n",
      "        [[[1., 1.],\n",
      "          [1., 1.]],\n",
      "\n",
      "         [[1., 1.],\n",
      "          [1., 1.]]]])\n"
     ]
    }
   ],
   "source": [
    "# 모든 원소가 1인 4차원 텐서 생성\n",
    "w = torch.ones((2, 2, 2, 2))\n",
    "print(w)"
   ]
  },
  {
   "cell_type": "code",
   "execution_count": 8,
   "metadata": {},
   "outputs": [
    {
     "name": "stdout",
     "output_type": "stream",
     "text": [
      "tensor([[0.4434, 0.6059, 0.8538],\n",
      "        [0.4884, 0.5181, 0.4541],\n",
      "        [0.0078, 0.3777, 0.0765]])\n"
     ]
    }
   ],
   "source": [
    "# 랜덤한 값으로 채워진 3x3 텐서 생성\n",
    "r = torch.rand((3, 3))\n",
    "print(r)"
   ]
  },
  {
   "cell_type": "markdown",
   "metadata": {},
   "source": [
    "위 예제에서는 torch.tensor() 함수를 사용하여 텐서를 생성했습니다. torch.tensor() 함수는 파이썬 리스트나 넘파이 배열을 입력받아 텐서를 생성합니다.\n",
    "\n",
    "이외에도, torch.zeros(), torch.ones(), torch.rand() 함수를 사용하여 모든 원소가 0, 1 또는 랜덤한 값으로 채워진 텐서를 생성할 수 있습니다. 인자로 텐서의 크기를 입력합니다."
   ]
  },
  {
   "cell_type": "markdown",
   "metadata": {},
   "source": [
    "\n",
    "텐서의 크기를 입력해 텐서를 얻는 여러 방법이 있는데 그 중 많이 쓰이는 방법 몇 개를 더 소개하려 합니다.\n",
    "\n",
    "앞에서 소개한 .rand 함수는 균등 분포(uniform distribution)에서 난수를 생성합니다. 이 분포는 최솟값과 최댓값 사이의 값들이 동일한 확률로 선택되는 분포입니다.\n",
    "\n",
    "비슷한 함수로 .randn 함수는 정규 분포(normal distribution)에서 난수를 생성합니다. 이 분포는 대표적인 연속 확률 분포로, 평균(mean)과 분산(variance)을 가지는 범위에서 난수를 생성합니다. 정규 분포는 자연계에서 많이 발견되며, 중심 극한 정리에 따라 다른 분포로 근사할 수 있습니다.\n",
    "\n",
    "따라서, .rand 함수는 0과 1 사이의 값이 동일한 확률로 선택되는 무작위 값을 생성하고, .randn 함수는 평균 0, 분산 1인 정규 분포에서 무작위 값을 생성합니다"
   ]
  },
  {
   "cell_type": "code",
   "execution_count": 9,
   "metadata": {},
   "outputs": [
    {
     "name": "stdout",
     "output_type": "stream",
     "text": [
      "tensor([[0.3647, 0.3798, 0.3252],\n",
      "        [0.8856, 0.4037, 0.3675]])\n",
      "tensor([[ 0.2688, -0.4276,  1.0313],\n",
      "        [ 1.4401,  0.0733, -0.4702]])\n"
     ]
    }
   ],
   "source": [
    "import torch\n",
    "\n",
    "# 균등 분포에서 난수 생성\n",
    "x = torch.rand((2, 3))\n",
    "print(x)\n",
    "\n",
    "# 정규 분포에서 난수 생성\n",
    "y = torch.randn((2, 3))\n",
    "print(y)\n"
   ]
  },
  {
   "cell_type": "markdown",
   "metadata": {},
   "source": [
    ".Tensor나 .empty 함수는 메모리 상에 할당된 임의의 값으로 초기화된 텐서를 생성합니다."
   ]
  },
  {
   "cell_type": "code",
   "execution_count": 10,
   "metadata": {},
   "outputs": [
    {
     "name": "stdout",
     "output_type": "stream",
     "text": [
      "tensor([1., 2., 3.])\n",
      "tensor([[-5.7806e-34,  1.3663e-42,  0.0000e+00],\n",
      "        [ 0.0000e+00,  0.0000e+00,  0.0000e+00]])\n",
      "tensor([[-5.7807e-34,  1.3663e-42,  0.0000e+00],\n",
      "        [ 0.0000e+00,  0.0000e+00,  0.0000e+00]])\n"
     ]
    }
   ],
   "source": [
    "# .Tensor 예제1\n",
    "a = torch.Tensor([1, 2, 3])\n",
    "print(a)\n",
    "\n",
    "# .empty 예제\n",
    "b = torch.empty(2, 3)\n",
    "print(b)\n",
    "\n",
    "# .Tensor 예제2\n",
    "c = torch.Tensor(2,3)\n",
    "print(c)\n"
   ]
  },
  {
   "cell_type": "markdown",
   "metadata": {},
   "source": [
    "이 장에서 처음 소개한 소문자로 시작하는 .tensor와는 다르게 대문자로 시작하는 .Tensor는 기본적으로 FloatTensor와 동일하며(이외에도 정수형 텐서를 만드는 IntTensor, Bool형 텐서를 만드는 BoolTensor가 있습니다.) 입력된 데이터를 실수형 텐서로 만들거나 empty나 rand, randn처럼 텐서의 크기를 입력해 새로운 텐서를 만들 수도 있습니다."
   ]
  }
 ],
 "metadata": {
  "kernelspec": {
   "display_name": "base",
   "language": "python",
   "name": "python3"
  },
  "language_info": {
   "codemirror_mode": {
    "name": "ipython",
    "version": 3
   },
   "file_extension": ".py",
   "mimetype": "text/x-python",
   "name": "python",
   "nbconvert_exporter": "python",
   "pygments_lexer": "ipython3",
   "version": "3.11.5"
  }
 },
 "nbformat": 4,
 "nbformat_minor": 2
}
